{
 "cells": [
  {
   "cell_type": "code",
   "execution_count": 9,
   "id": "fd87da62-db6f-4edf-b74a-a44686d60722",
   "metadata": {},
   "outputs": [],
   "source": [
    "import leaderbot\n",
    "import leaderbot as lb\n",
    "import numpy as np\n",
    "import matplotlib.pyplot as plt\n",
    "import texplot\n",
    "import time\n",
    "import scipy"
   ]
  },
  {
   "cell_type": "code",
   "execution_count": 2,
   "id": "e50b80f3-958d-43c3-81a7-65cd192ccb1b",
   "metadata": {},
   "outputs": [],
   "source": [
    "data = lb.data.load()\n",
    "\n",
    "agents = np.array(data['models'])\n",
    "x = np.array(data['X'])\n",
    "y = np.array(data['Y'])\n",
    "n_agents = len(agents)\n",
    "\n",
    "# Clean empty data\n",
    "y_sum = np.sum(y, axis=1)\n",
    "ind_valid = y_sum != 0\n",
    "x = x[ind_valid]\n",
    "y = y[ind_valid]"
   ]
  },
  {
   "cell_type": "code",
   "execution_count": 3,
   "id": "410a82a1-80a5-4fd8-b853-e2c01d4802f8",
   "metadata": {},
   "outputs": [],
   "source": [
    "# wins, losses, ties = y[:, 0], y[:, 1], y[:, 2]\n",
    "\n",
    "# n_wins = np.zeros((n_agents,), dtype=int)\n",
    "# n_losses = np.zeros((n_agents,), dtype=int)\n",
    "# n_ties = np.zeros((n_agents,), dtype=int)\n",
    "# n_games = np.zeros((n_agents,), dtype=int)\n",
    "\n",
    "# for i in range(n_agents):\n",
    "#     ind_0 = (x[:, 0] == i)\n",
    "#     ind_1 = (x[:, 1] == i)\n",
    "#     n_wins[i] = np.sum(wins[ind_0]) + np.sum(losses[ind_1])\n",
    "#     n_losses[i] = np.sum(losses[ind_0]) + np.sum(wins[ind_1])\n",
    "#     n_ties[i] = np.sum(ties[ind_0]) + np.sum(ties[ind_1])\n",
    "\n",
    "# n_matches = n_wins + n_losses + n_ties\n",
    "# p_wins = n_wins / n_matches\n",
    "# p_losses = n_losses / n_matches\n",
    "# p_ties = n_ties / n_matches"
   ]
  },
  {
   "cell_type": "code",
   "execution_count": 9,
   "id": "ef52eb88-5195-4639-a869-4a04e549ed97",
   "metadata": {},
   "outputs": [],
   "source": [
    "#algs = [davidson, davidson_scaled, davidson_scaled_r, davidson_scaled_rij]\n",
    "model = lb.DavidsonScaled(data)\n",
    "model.train()"
   ]
  },
  {
   "cell_type": "code",
   "execution_count": 10,
   "id": "e130e721-3970-41df-96d4-844388385ec8",
   "metadata": {},
   "outputs": [],
   "source": [
    "p_pred = model.infer()"
   ]
  },
  {
   "cell_type": "markdown",
   "id": "fabba8b1-c67c-4bb6-baa8-b1643c63cb09",
   "metadata": {},
   "source": [
    "# Evaluate All"
   ]
  },
  {
   "cell_type": "code",
   "execution_count": 1,
   "id": "63f3e57f-7ce3-4c61-afc2-440e5b037b5a",
   "metadata": {},
   "outputs": [],
   "source": [
    "import leaderbot as lb\n",
    "import numpy as np"
   ]
  },
  {
   "cell_type": "code",
   "execution_count": 2,
   "id": "fdbef98d-8a74-43a3-bafa-ecc52cb612b1",
   "metadata": {},
   "outputs": [],
   "source": [
    "data = lb.data.load()\n",
    "training_data, test_data = lb.data.split(data, test_ratio=0.2)"
   ]
  },
  {
   "cell_type": "code",
   "execution_count": 3,
   "id": "5c01697e-e84b-49cd-8514-8a78c7ebb06d",
   "metadata": {},
   "outputs": [],
   "source": [
    "models = [\n",
    "    lb.models.BradleyTerry(training_data),\n",
    "    lb.models.RaoKupper(training_data),\n",
    "    lb.models.Davidson(training_data)\n",
    "]"
   ]
  },
  {
   "cell_type": "code",
   "execution_count": 9,
   "id": "0c7d3302-7f71-404b-93d5-42198442794f",
   "metadata": {},
   "outputs": [],
   "source": [
    "models = [\n",
    "    lb.models.BradleyTerry(training_data),\n",
    "    lb.models.BradleyTerryScaled(training_data),\n",
    "    lb.models.BradleyTerryScaledR(training_data),\n",
    "    # lb.models.BradleyTerryScaledRIJ(training_data),\n",
    "    lb.models.RaoKupper(training_data),\n",
    "    lb.models.RaoKupperScaled(training_data),\n",
    "    lb.models.RaoKupperScaledR(training_data),\n",
    "    # lb.models.RaoKupperScaledRIJ(dtraining_data),\n",
    "    lb.models.Davidson(training_data),\n",
    "    lb.models.DavidsonScaled(training_data),\n",
    "    lb.models.DavidsonScaledR(training_data),\n",
    "    # lb.models.DavidsonScaledRIJ(training_data),\n",
    "]"
   ]
  },
  {
   "cell_type": "code",
   "execution_count": 10,
   "id": "5d6a63c5-c6eb-4743-8181-d58c583f52a2",
   "metadata": {},
   "outputs": [
    {
     "name": "stdout",
     "output_type": "stream",
     "text": [
      "training BradleyTerry          ... done.\n",
      "training BradleyTerryScaled    ... done.\n",
      "training BradleyTerryScaledR   ... done.\n",
      "training RaoKupper             ... done.\n",
      "training RaoKupperScaled       ... done.\n",
      "training RaoKupperScaledR      ... done.\n",
      "training Davidson              ... done.\n",
      "training DavidsonScaled        ... done.\n",
      "training DavidsonScaledR       ... done.\n"
     ]
    }
   ],
   "source": [
    "for model in models:\n",
    "\n",
    "    name = model.__class__.__name__\n",
    "    if name.endswith('ScaledRIJ'):\n",
    "        method = 'L-BFGS-B'\n",
    "    else:\n",
    "        method = 'BFGS'\n",
    "\n",
    "    print(f'training {name:<21} ... ', end='')\n",
    "    model.train()\n",
    "    print('done.')"
   ]
  },
  {
   "cell_type": "code",
   "execution_count": 11,
   "id": "58827223-d1e7-4018-9778-862977c9b7d0",
   "metadata": {},
   "outputs": [
    {
     "name": "stdout",
     "output_type": "stream",
     "text": [
      "+-----------------------+---------+--------+--------+--------+---------+\n",
      "| model                 | # param | NLL    | CEL    | AIC    | BIC     |\n",
      "+-----------------------+---------+--------+--------+--------+---------+\n",
      "| BradleyTerry          |     129 | 0.6544 |    inf | 256.69 | 1020.94 |\n",
      "| BradleyTerryScaled    |     258 | 0.6542 |    inf | 514.69 | 2043.20 |\n",
      "| BradleyTerryScaledR   |     259 | 0.6542 |    inf | 516.69 | 2051.12 |\n",
      "| RaoKupper             |     130 | 1.0080 | 1.0080 | 257.98 | 1028.16 |\n",
      "| RaoKupperScaled       |     259 | 1.0077 | 1.0077 | 515.98 | 2050.41 |\n",
      "| RaoKupperScaledR      |     260 | 1.0077 | 1.0077 | 517.98 | 2058.34 |\n",
      "| Davidson              |     130 | 1.0085 | 1.0085 | 257.98 | 1028.16 |\n",
      "| DavidsonScaled        |     259 | 1.0083 | 1.0083 | 515.98 | 2050.41 |\n",
      "| DavidsonScaledR       |     260 | 1.0083 | 1.0083 | 517.98 | 2058.34 |\n",
      "+-----------------------+---------+--------+--------+--------+---------+\n"
     ]
    }
   ],
   "source": [
    "metrics = lb.evaluate.model_selection(models, train=False, tie=True, report=True)"
   ]
  },
  {
   "cell_type": "code",
   "execution_count": 12,
   "id": "3f409161-f9d1-451b-9d02-1b3e916bc7a5",
   "metadata": {},
   "outputs": [
    {
     "name": "stdout",
     "output_type": "stream",
     "text": [
      "+-----------------------+----------------------------+--------+--------+\n",
      "|                       |    Mean Absolute Error     |        |        |\n",
      "| model                 |   win   loss    tie    all | KLD    | JSD %  |\n",
      "+-----------------------+----------------------------+--------+--------+\n",
      "| BradleyTerry          | 10.98  10.98  -----  10.98 | 0.0199 | 0.5687 |\n",
      "| BradleyTerryScaled    | 10.44  10.44  -----  10.44 | 0.0189 | 0.5409 |\n",
      "| BradleyTerryScaledR   | 10.42  10.42  -----  10.42 | 0.0188 | 0.5396 |\n",
      "| RaoKupper             |  8.77   9.10  11.66   9.84 | 0.0331 | 0.9176 |\n",
      "| RaoKupperScaled       |  8.47   8.55  11.67   9.56 | 0.0322 | 0.8919 |\n",
      "| RaoKupperScaledR      |  8.40   8.56  11.66   9.54 | 0.0322 | 0.8949 |\n",
      "| Davidson              |  8.91   9.36  12.40  10.22 | 0.0341 | 0.9445 |\n",
      "| DavidsonScaled        |  8.75   8.74  12.47   9.99 | 0.0332 | 0.9217 |\n",
      "| DavidsonScaledR       |  8.73   8.72  12.48   9.98 | 0.0331 | 0.9201 |\n",
      "+-----------------------+----------------------------+--------+--------+\n"
     ]
    }
   ],
   "source": [
    "metrics = lb.evaluate.goodness_of_fit(models, train=False, tie=False, report=True)"
   ]
  },
  {
   "cell_type": "code",
   "execution_count": 13,
   "id": "289e6599-0f6a-4a9e-9cb0-2bf97f10723e",
   "metadata": {},
   "outputs": [
    {
     "name": "stdout",
     "output_type": "stream",
     "text": [
      "+-----------------------+----------------------------+--------+--------+\n",
      "|                       |    Mean Absolute Error     |        |        |\n",
      "| model                 |   win   loss    tie    all | KLD    | JSD %  |\n",
      "+-----------------------+----------------------------+--------+--------+\n",
      "| BradleyTerry          | 10.80  10.80  -----  10.80 | 0.0203 | 0.6100 |\n",
      "| BradleyTerryScaled    |  9.90   9.90  -----   9.90 | 0.0193 | 0.5840 |\n",
      "| BradleyTerryScaledR   |  9.88   9.88  -----   9.88 | 0.0194 | 0.5865 |\n",
      "| RaoKupper             |  8.90   8.40  10.43   9.24 | 0.0339 | 0.9295 |\n",
      "| RaoKupperScaled       |  8.77   8.47  10.49   9.24 | 0.0332 | 0.9103 |\n",
      "| RaoKupperScaledR      |  8.91   8.79  10.50   9.40 | 0.0350 | 0.9257 |\n",
      "| Davidson              |  8.97   8.58  11.06   9.54 | 0.0345 | 0.9478 |\n",
      "| DavidsonScaled        |  8.83   8.56  11.14   9.51 | 0.0337 | 0.9290 |\n",
      "| DavidsonScaledR       |  8.83   8.60  11.15   9.53 | 0.0338 | 0.9309 |\n",
      "+-----------------------+----------------------------+--------+--------+\n"
     ]
    }
   ],
   "source": [
    "metrics = lb.evaluate.generalization(models, test_data=test_data, train=False, tie=False, report=True)"
   ]
  },
  {
   "cell_type": "code",
   "execution_count": null,
   "id": "0941a568-0855-4159-87f0-a22ff7b3ece9",
   "metadata": {},
   "outputs": [],
   "source": []
  }
 ],
 "metadata": {
  "kernelspec": {
   "display_name": "Python 3 (ipykernel)",
   "language": "python",
   "name": "python3"
  },
  "language_info": {
   "codemirror_mode": {
    "name": "ipython",
    "version": 3
   },
   "file_extension": ".py",
   "mimetype": "text/x-python",
   "name": "python",
   "nbconvert_exporter": "python",
   "pygments_lexer": "ipython3",
   "version": "3.12.1"
  }
 },
 "nbformat": 4,
 "nbformat_minor": 5
}
