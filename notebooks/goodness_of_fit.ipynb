{
 "cells": [
  {
   "cell_type": "code",
   "execution_count": 1,
   "id": "fd87da62-db6f-4edf-b74a-a44686d60722",
   "metadata": {},
   "outputs": [],
   "source": [
    "import leaderbot as lb\n",
    "import numpy\n",
    "import matplotlib.pyplot as plt\n",
    "from scipy.optimize import minimize, differential_evolution, shgo, basinhopping, dual_annealing\n",
    "import texplot\n",
    "import time\n",
    "import scipy"
   ]
  },
  {
   "cell_type": "code",
   "execution_count": 2,
   "id": "e50b80f3-958d-43c3-81a7-65cd192ccb1b",
   "metadata": {},
   "outputs": [],
   "source": [
    "data = load_chatbot_arena_data()\n",
    "\n",
    "models = numpy.array(data['models'])\n",
    "xs = numpy.array(data['X'])\n",
    "ys = numpy.array(data['Y'])\n",
    "n_models = len(models)\n",
    "\n",
    "# Clean empty data\n",
    "y_sum = numpy.sum(ys, axis=-1)\n",
    "ind_valid = y_sum != 0\n",
    "xs = xs[ind_valid]\n",
    "ys = ys[ind_valid]"
   ]
  },
  {
   "cell_type": "code",
   "execution_count": 3,
   "id": "410a82a1-80a5-4fd8-b853-e2c01d4802f8",
   "metadata": {},
   "outputs": [],
   "source": [
    "wins, losses, ties = ys[:, 0], ys[:, 1], ys[:, 2]\n",
    "\n",
    "n_wins = numpy.zeros((n_models,), dtype=int)\n",
    "n_losses = numpy.zeros((n_models,), dtype=int)\n",
    "n_ties = numpy.zeros((n_models,), dtype=int)\n",
    "n_games = numpy.zeros((n_models,), dtype=int)\n",
    "\n",
    "for i in range(n_models):\n",
    "    ind_0 = (xs[:, 0] == i)\n",
    "    ind_1 = (xs[:, 1] == i)\n",
    "    n_wins[i] = numpy.sum(wins[ind_0]) + numpy.sum(losses[ind_1])\n",
    "    n_losses[i] = numpy.sum(losses[ind_0]) + numpy.sum(wins[ind_1])\n",
    "    n_ties[i] = numpy.sum(ties[ind_0]) + numpy.sum(ties[ind_1])\n",
    "\n",
    "n_games = n_wins + n_losses + n_ties\n",
    "p_wins = n_wins / n_games\n",
    "p_losses = n_losses / n_games\n",
    "p_ties = n_ties / n_games"
   ]
  },
  {
   "cell_type": "code",
   "execution_count": 4,
   "id": "ef52eb88-5195-4639-a869-4a04e549ed97",
   "metadata": {},
   "outputs": [],
   "source": [
    "#algs = [davidson, davidson_scaled, davidson_scaled_r, davidson_scaled_rij]\n",
    "algs = [davidson]"
   ]
  },
  {
   "cell_type": "code",
   "execution_count": 5,
   "id": "7d9b1a9b-a9b7-416a-a788-0d89eb6fc47f",
   "metadata": {},
   "outputs": [],
   "source": [
    "#w0 = numpy.zeros(n_models+1)\n",
    "n_pairs = n_models * (n_models - 1) // 2\n",
    "#w0 = numpy.zeros(2*n_models + n_pairs + 1)\n",
    "#w0 = numpy.zeros(2*n_models + 2)\n",
    "w0 = numpy.zeros(2*n_models + 1)\n",
    "#w0[:n_models] = numpy.full(n_models, numpy.log(1/n_models))\n",
    "\n",
    "init_guess = p_wins + p_ties/2.0\n",
    "init_guess[numpy.isnan(init_guess)] = 0\n",
    "init_guess = init_guess - numpy.mean(init_guess)\n",
    "w0[:n_models] = init_guess\n",
    "\n",
    "w0[n_models:n_models * 2] = np.full(n_models, (1.0/n_models) ** 0.5)"
   ]
  },
  {
   "cell_type": "code",
   "execution_count": null,
   "id": "109ac616-1a0e-4b1c-904f-93f35522d918",
   "metadata": {},
   "outputs": [],
   "source": [
    "\n",
    "benchmark = 0 # choose which model to be the default for the rest of analysis\n",
    "results = []\n",
    "\n",
    "for alg in algs:\n",
    "    t0 = time.time()\n",
    "    res = minimize(alg.jac, w0, args=(xs, ys, n_models),\n",
    "                   jac=True, method=method, options={'maxiter': 1500},\n",
    "                   tol=1e-8)\n",
    "    t = time.time() - t0\n",
    "    results.append(res)\n",
    "\n",
    "    print(f'{method:>9} | nit: {res.nit:>4}, nfev: {res.nfev:>4}, ', end='')\n",
    "    if hasattr(res, 'njev'):\n",
    "        print(f'njev: {res.njev:>5} | ', end='')\n",
    "    else:\n",
    "        print('njev:     0 | ', end='')\n",
    "    print(f'time: {t:>6.2f} | '\n",
    "          f'fun: {res.fun:>0.6f}, jac: {numpy.mean(numpy.abs(res.jac)):>0.1e}')"
   ]
  }
 ],
 "metadata": {
  "kernelspec": {
   "display_name": "Python 3 (ipykernel)",
   "language": "python",
   "name": "python3"
  },
  "language_info": {
   "codemirror_mode": {
    "name": "ipython",
    "version": 3
   },
   "file_extension": ".py",
   "mimetype": "text/x-python",
   "name": "python",
   "nbconvert_exporter": "python",
   "pygments_lexer": "ipython3",
   "version": "3.11.4"
  }
 },
 "nbformat": 4,
 "nbformat_minor": 5
}
