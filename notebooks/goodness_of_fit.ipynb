{
 "cells": [
  {
   "cell_type": "code",
   "execution_count": 1,
   "id": "fd87da62-db6f-4edf-b74a-a44686d60722",
   "metadata": {},
   "outputs": [],
   "source": [
    "import leaderbot\n",
    "import leaderbot as lb\n",
    "import numpy as np\n",
    "import matplotlib.pyplot as plt\n",
    "import texplot\n",
    "import time\n",
    "import scipy"
   ]
  },
  {
   "cell_type": "code",
   "execution_count": 2,
   "id": "e50b80f3-958d-43c3-81a7-65cd192ccb1b",
   "metadata": {},
   "outputs": [],
   "source": [
    "data = lb.load_data()\n",
    "\n",
    "agents = np.array(data['models'])\n",
    "x = np.array(data['X'])\n",
    "y = np.array(data['Y'])\n",
    "n_agents = len(agents)\n",
    "\n",
    "# Clean empty data\n",
    "y_sum = np.sum(y, axis=1)\n",
    "ind_valid = y_sum != 0\n",
    "x = x[ind_valid]\n",
    "y = y[ind_valid]"
   ]
  },
  {
   "cell_type": "code",
   "execution_count": 3,
   "id": "410a82a1-80a5-4fd8-b853-e2c01d4802f8",
   "metadata": {},
   "outputs": [],
   "source": [
    "# wins, losses, ties = y[:, 0], y[:, 1], y[:, 2]\n",
    "\n",
    "# n_wins = np.zeros((n_agents,), dtype=int)\n",
    "# n_losses = np.zeros((n_agents,), dtype=int)\n",
    "# n_ties = np.zeros((n_agents,), dtype=int)\n",
    "# n_games = np.zeros((n_agents,), dtype=int)\n",
    "\n",
    "# for i in range(n_agents):\n",
    "#     ind_0 = (x[:, 0] == i)\n",
    "#     ind_1 = (x[:, 1] == i)\n",
    "#     n_wins[i] = np.sum(wins[ind_0]) + np.sum(losses[ind_1])\n",
    "#     n_losses[i] = np.sum(losses[ind_0]) + np.sum(wins[ind_1])\n",
    "#     n_ties[i] = np.sum(ties[ind_0]) + np.sum(ties[ind_1])\n",
    "\n",
    "# n_matches = n_wins + n_losses + n_ties\n",
    "# p_wins = n_wins / n_matches\n",
    "# p_losses = n_losses / n_matches\n",
    "# p_ties = n_ties / n_matches"
   ]
  },
  {
   "cell_type": "code",
   "execution_count": 8,
   "id": "fe5925f3-a40e-4c02-905f-d816e6d175a7",
   "metadata": {},
   "outputs": [],
   "source": [
    "def kl_divergence(p, q):\n",
    "    h = p * np.log(p / q)\n",
    "    h[p == 0] = 0\n",
    "    return h"
   ]
  },
  {
   "cell_type": "code",
   "execution_count": 9,
   "id": "ef52eb88-5195-4639-a869-4a04e549ed97",
   "metadata": {},
   "outputs": [],
   "source": [
    "#algs = [davidson, davidson_scaled, davidson_scaled_r, davidson_scaled_rij]\n",
    "model = lb.DavidsonScaled(data)\n",
    "model.train()"
   ]
  },
  {
   "cell_type": "code",
   "execution_count": 10,
   "id": "e130e721-3970-41df-96d4-844388385ec8",
   "metadata": {},
   "outputs": [],
   "source": [
    "p_pred = model.infer()"
   ]
  },
  {
   "cell_type": "code",
   "execution_count": 11,
   "id": "7d9b1a9b-a9b7-416a-a788-0d89eb6fc47f",
   "metadata": {},
   "outputs": [
    {
     "name": "stdout",
     "output_type": "stream",
     "text": [
      "jsd: 0.0092 +-(0.0307)\n"
     ]
    }
   ],
   "source": [
    "# Jensen-Shannon Divergence\n",
    "y_sum = y.sum(axis=1, keepdims=True)\n",
    "y_sum[y_sum == 0] = 1.0\n",
    "p_obs = y / y_sum\n",
    "p_mean = (p_pred + p_obs) / 2.0\n",
    "jsd_ = 0.5 * (kl_divergence(p_obs, p_mean) + kl_divergence(p_pred, p_mean))\n",
    "jsd_ = jsd_.sum(axis=1)\n",
    "jsd_mean = np.mean(jsd_)\n",
    "jsd_std = np.std(jsd_)\n",
    "\n",
    "print(f'jsd: {jsd_mean:>0.4f} +-({jsd_std:>0.4f})')"
   ]
  },
  {
   "cell_type": "code",
   "execution_count": 16,
   "id": "61ceb1ed-e95d-42de-8957-bb2b127c9794",
   "metadata": {},
   "outputs": [
    {
     "data": {
      "text/plain": [
       "False"
      ]
     },
     "execution_count": 16,
     "metadata": {},
     "output_type": "execute_result"
    }
   ],
   "source": [
    "np.any(np.isnan(p_mean))"
   ]
  },
  {
   "cell_type": "code",
   "execution_count": 22,
   "id": "197da5c6-29dc-4e66-b71e-7f44da9c733c",
   "metadata": {},
   "outputs": [
    {
     "data": {
      "text/plain": [
       "True"
      ]
     },
     "execution_count": 22,
     "metadata": {},
     "output_type": "execute_result"
    }
   ],
   "source": [
    "np.any(p_obs == 0)"
   ]
  },
  {
   "cell_type": "code",
   "execution_count": 9,
   "id": "109ac616-1a0e-4b1c-904f-93f35522d918",
   "metadata": {},
   "outputs": [
    {
     "name": "stdout",
     "output_type": "stream",
     "text": [
      "jsd: 0.0332 +-(0.1068)\n"
     ]
    }
   ],
   "source": [
    "# KL Divergence\n",
    "y_sum = y.sum(axis=1, keepdims=True)\n",
    "y_sum[y_sum == 0] = 1.0\n",
    "p_obs = y / y_sum\n",
    "kld_ = kl_divergence(p_obs, p_pred)\n",
    "kld_ = kld_.sum(axis=1)\n",
    "kld_mean = np.mean(kld_)\n",
    "kld_std = np.std(kld_)\n",
    "\n",
    "print(f'jsd: {kld_mean:>0.4f} +-({kld_std:>0.4f})')"
   ]
  },
  {
   "cell_type": "code",
   "execution_count": 11,
   "id": "349e181f-4d2c-4b57-b46a-b6d28285c164",
   "metadata": {},
   "outputs": [
    {
     "name": "stdout",
     "output_type": "stream",
     "text": [
      "515.9804811226344\n",
      "2108.203114798893\n"
     ]
    }
   ],
   "source": [
    "# AIC, BIC\n",
    "n_data = y.shape[0]\n",
    "loss_ = model.loss(return_jac=False, constraint=False)\n",
    "aic_ = 2.0 * model.n_param - 2.0 * loss_\n",
    "bic_ = model.n_param * np.log(n_data) - 2.0 * loss_\n",
    "\n",
    "print(aic_)\n",
    "print(bic_)"
   ]
  },
  {
   "cell_type": "code",
   "execution_count": 5,
   "id": "5ee40454-3e8c-4da5-ac9b-b25f2d45b780",
   "metadata": {},
   "outputs": [],
   "source": [
    "# Create a list of models\n",
    "model1 = leaderbot.BradleyTerryScaled(data)\n",
    "model2 = leaderbot.RaoKupperScaled(data)\n",
    "model3 = leaderbot.DavidsonScaled(data)\n",
    "models = [model1, model2, model3]"
   ]
  },
  {
   "cell_type": "code",
   "execution_count": 6,
   "id": "9b5545ae-b494-4ff3-9a35-54ca0a54ec5f",
   "metadata": {},
   "outputs": [],
   "source": [
    "# Evaluate models\n",
    "metrics = leaderbot.evaluate(models, train=True, print=True)"
   ]
  },
  {
   "cell_type": "code",
   "execution_count": 10,
   "id": "420352a6-5a73-4c8e-87aa-6b20c74a49a0",
   "metadata": {},
   "outputs": [
    {
     "name": "stdout",
     "output_type": "stream",
     "text": [
      "{'aic': [514.6895864968636, 515.981545356483, 515.9804811226344],\n",
      " 'bic': [2100.7646424369204, 2108.204179032741, 2108.203114798893],\n",
      " 'jsd': [0.07217424036142622, 0.008951195124648122, 0.00922312213548934],\n",
      " 'kld': [inf, 0.03230331757774358, 0.033222671912828225],\n",
      " 'loss': [0.6552067515681887, 1.0092273217584713, 1.0097594386828288],\n",
      " 'n_param': [258, 259, 259],\n",
      " 'name': ['bradleyterry_scaled', 'raokupper_scaled', 'davidson_scaled']}\n"
     ]
    }
   ],
   "source": [
    "from pprint import pprint\n",
    "pprint(metrics)\n",
    "\n",
    "n_param = metrics['n_param']\n",
    "name = metrics['name']\n",
    "loss = metrics['loss']\n",
    "jsd = metrics['jsd']\n",
    "kld = metrics['kld']\n",
    "aic = metrics['aic']\n",
    "bic = metrics['bic']"
   ]
  },
  {
   "cell_type": "code",
   "execution_count": 33,
   "id": "4208cec0-9fc9-40c9-b861-0b357d0c0c2c",
   "metadata": {},
   "outputs": [
    {
     "name": "stdout",
     "output_type": "stream",
     "text": [
      "+---------------------+---------+--------+------+------+------+---------+\n",
      "| name                | # param | loss   | kld | jsd  | aic  | bic     |\n",
      "| bradleyterry_scaled |     258 | 0.65521 | inf  | 0.07217 | 514.7 | 2.101e+03 |\n",
      "| raokupper_scaled |     259 | 1.0092 | 0.0323  | 0.008951 | 516.0 | 2.108e+03 |\n",
      "| davidson_scaled |     259 | 1.0098 | 0.03322  | 0.009223 | 516.0 | 2.108e+03 |\n"
     ]
    }
   ],
   "source": [
    "print('+---------------------+---------+--------+------+------+------+---------+')\n",
    "print('| name                | # param | loss   | kld | jsd  | aic  | bic     |')\n",
    "for i in range(len(name)):\n",
    "    name_ = name[i]\n",
    "    print(f'| {name[i]:<15s} '\n",
    "          f'| {n_param[i]:>7} '\n",
    "          f'| {loss[i]:>0.5} '\n",
    "          f'| {kld[i]:>0.4}  '\n",
    "          f'| {jsd[i]:>0.4} '\n",
    "          f'| {aic[i]:>0.4} '\n",
    "          f'| {bic[i]:>0.4} |')"
   ]
  },
  {
   "cell_type": "code",
   "execution_count": null,
   "id": "3b7f4fa1-49b0-4b70-bdff-81f26b464879",
   "metadata": {},
   "outputs": [],
   "source": []
  }
 ],
 "metadata": {
  "kernelspec": {
   "display_name": "Python 3 (ipykernel)",
   "language": "python",
   "name": "python3"
  },
  "language_info": {
   "codemirror_mode": {
    "name": "ipython",
    "version": 3
   },
   "file_extension": ".py",
   "mimetype": "text/x-python",
   "name": "python",
   "nbconvert_exporter": "python",
   "pygments_lexer": "ipython3",
   "version": "3.12.1"
  }
 },
 "nbformat": 4,
 "nbformat_minor": 5
}
