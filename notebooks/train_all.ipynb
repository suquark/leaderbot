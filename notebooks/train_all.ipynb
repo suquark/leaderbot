{
 "cells": [
  {
   "cell_type": "markdown",
   "id": "8ba33238-c5c5-40b3-b549-3c5c51fedd24",
   "metadata": {},
   "source": [
    "# Train All Models"
   ]
  },
  {
   "cell_type": "code",
   "execution_count": 4,
   "id": "2b96bd2d-ce73-47e7-83ae-319c3e06cd9f",
   "metadata": {},
   "outputs": [],
   "source": [
    "import pickle\n",
    "import leaderbot as lb\n",
    "import numpy as np"
   ]
  },
  {
   "cell_type": "code",
   "execution_count": 5,
   "id": "e88ab449-9a08-4669-9067-55c4876fea97",
   "metadata": {},
   "outputs": [],
   "source": [
    "data = lb.data.load()\n",
    "training_data, test_data = lb.data.split(data, test_ratio=0.1, seed=20)"
   ]
  },
  {
   "cell_type": "code",
   "execution_count": 6,
   "id": "ffe2e3c7-caaf-45d1-92b0-cdaf5cd80971",
   "metadata": {},
   "outputs": [],
   "source": [
    "from copy import deepcopy\n",
    "\n",
    "# Create a copy of the data with no tie (for Bradley-Terry)\n",
    "training_data_no_tie = deepcopy(training_data)\n",
    "test_data_no_tie = deepcopy(test_data)\n",
    "\n",
    "training_data_no_tie['Y'][:, -1] = 0\n",
    "test_data_no_tie['Y'][:, -1] = 0"
   ]
  },
  {
   "cell_type": "code",
   "execution_count": 13,
   "id": "6d3b2dc0-f1e2-45a2-8336-c47a4a2dc79c",
   "metadata": {},
   "outputs": [],
   "source": [
    "# More set of models\n",
    "n_tie = 0\n",
    "n_cov = 0\n",
    "\n",
    "models = [\n",
    "    lb.models.BradleyTerry(training_data),\n",
    "    lb.models.BradleyTerryScaled(training_data),\n",
    "    #lb.models.BradleyTerryScaledR(training_data_no_tie),\n",
    "    # lb.models.BradleyTerryScaledRIJ(training_data, n_tie_factors=n_tie),\n",
    "    lb.models.BradleyTerryFactor(training_data, n_cov_factors=1),\n",
    "    lb.models.BradleyTerryFactor(training_data, n_cov_factors=5),\n",
    "    lb.models.BradleyTerryFactor(training_data, n_cov_factors=10),\n",
    "\n",
    "    lb.models.BradleyTerry(training_data_no_tie),\n",
    "    lb.models.BradleyTerryScaled(training_data_no_tie),\n",
    "    lb.models.BradleyTerryFactor(training_data_no_tie, n_cov_factors=1),\n",
    "    lb.models.BradleyTerryFactor(training_data_no_tie, n_cov_factors=5),\n",
    "    lb.models.BradleyTerryFactor(training_data_no_tie, n_cov_factors=10),\n",
    "    \n",
    "    lb.models.RaoKupper(training_data, n_tie_factors=n_tie),\n",
    "    lb.models.RaoKupperScaled(training_data, n_tie_factors=n_tie),\n",
    "    #lb.models.RaoKupperScaledR(training_data, n_tie_factors=n_tie),\n",
    "    # lb.models.RaoKupperScaledRIJ(dtraining_data, n_tie_factors=n_tie),\n",
    "    lb.models.RaoKupperFactor(training_data, n_cov_factors=1, n_tie_factors=0),\n",
    "    lb.models.RaoKupperFactor(training_data, n_cov_factors=1, n_tie_factors=0),\n",
    "    \n",
    "    # lb.models.Davidson(training_data, n_tie_factors=n_tie),\n",
    "    # lb.models.DavidsonScaled(training_data, n_tie_factors=n_tie),\n",
    "    # #lb.models.DavidsonScaledR(training_data, n_tie_factors=n_tie),\n",
    "    # # lb.models.DavidsonScaledRIJ(training_data, n_tie_factors=n_tie),\n",
    "    # lb.models.DavidsonFactor(training_data, n_cov_factors=0, n_tie_factors=0)\n",
    "]"
   ]
  },
  {
   "cell_type": "code",
   "execution_count": 14,
   "id": "52f6dcc4-2feb-4076-947b-65f0a5daba1d",
   "metadata": {},
   "outputs": [
    {
     "name": "stdout",
     "output_type": "stream",
     "text": [
      "training BradleyTerry          ... done.\n",
      "training BradleyTerry          ... done.\n",
      "training BradleyTerryScaled    ... done.\n",
      "training BradleyTerryScaled    ... done.\n",
      "training BradleyTerryFactor    ... done.\n",
      "training BradleyTerryFactor    ... done.\n",
      "training BradleyTerryFactor    ... done.\n",
      "training BradleyTerryFactor    ... done.\n",
      "training BradleyTerryFactor    ... done.\n",
      "training BradleyTerryFactor    ... done.\n"
     ]
    }
   ],
   "source": [
    "# Train all. If model is ScaledRIJ, use l-BFGS-B, otherwise, use BFGS.\n",
    "for model in models:\n",
    "\n",
    "    name = model.__class__.__name__\n",
    "    if name.endswith('ScaledRIJ'):\n",
    "        method = 'L-BFGS-B'\n",
    "    else:\n",
    "        method = 'BFGS'\n",
    "\n",
    "    print(f'training {name:<21} ... ', end='')\n",
    "    model.train()\n",
    "    print('done.')"
   ]
  },
  {
   "cell_type": "code",
   "execution_count": 15,
   "id": "8ee51ba5-7409-485d-aca2-96d779b5102f",
   "metadata": {},
   "outputs": [],
   "source": [
    "with open('models.pkl', 'wb') as f:\n",
    "    pickle.dump(models, f)"
   ]
  },
  {
   "cell_type": "code",
   "execution_count": 16,
   "id": "b308bb89-6bb4-4c51-a164-0e4a6de06bce",
   "metadata": {},
   "outputs": [
    {
     "name": "stdout",
     "output_type": "stream",
     "text": [
      "+-----------------------+---------+--------+--------+---------+---------+\n",
      "| model                 | # param | NLL    | CEL    | AIC     | BIC     |\n",
      "+-----------------------+---------+--------+--------+---------+---------+\n",
      "| BradleyTerry          |     129 | 0.6552 |    inf |  256.69 | 1036.11 |\n",
      "| BradleyTerry          |     129 | 0.6347 | 0.6347 |  256.73 | 1036.16 |\n",
      "| BradleyTerryScaled    |     258 | 0.6550 |    inf |  514.69 | 2073.54 |\n",
      "| BradleyTerryScaled    |     258 | 0.6343 | 0.6343 |  514.73 | 2073.58 |\n",
      "| BradleyTerryFactor    |     387 | 0.6549 |    inf |  772.69 | 3110.97 |\n",
      "| BradleyTerryFactor    |     387 | 0.6340 | 0.6340 |  772.73 | 3111.01 |\n",
      "| BradleyTerryFactor    |     645 | 0.6547 |    inf | 1288.69 | 5185.82 |\n",
      "| BradleyTerryFactor    |     645 | 0.6338 | 0.6338 | 1288.73 | 5185.86 |\n",
      "| BradleyTerryFactor    |     903 | 0.6546 |    inf | 1804.69 | 7260.67 |\n",
      "| BradleyTerryFactor    |     903 | 0.6335 | 0.6335 | 1804.73 | 7260.71 |\n",
      "+-----------------------+---------+--------+--------+---------+---------+\n"
     ]
    }
   ],
   "source": [
    "# Model selection\n",
    "metrics = lb.evaluate.model_selection(models, train=False, tie=True, report=True)"
   ]
  },
  {
   "cell_type": "code",
   "execution_count": 19,
   "id": "d947dc1d-aac2-4279-b289-4072c8ed0ae3",
   "metadata": {},
   "outputs": [
    {
     "name": "stdout",
     "output_type": "stream",
     "text": [
      "+-----------------------+---------+--------+--------+---------+---------+\n",
      "| model                 | # param | NLL    | CEL    | AIC     | BIC     |\n",
      "+-----------------------+---------+--------+--------+---------+---------+\n",
      "| BradleyTerry          |     129 | 0.6552 | 0.6368 |  256.69 | 1036.11 |\n",
      "| BradleyTerry          |     129 | 0.6347 | 0.6347 |  256.73 | 1036.16 |\n",
      "| BradleyTerryScaled    |     258 | 0.6550 | 0.6364 |  514.69 | 2073.54 |\n",
      "| BradleyTerryScaled    |     258 | 0.6343 | 0.6343 |  514.73 | 2073.58 |\n",
      "| BradleyTerryFactor    |     387 | 0.6549 | 0.6363 |  772.69 | 3110.97 |\n",
      "| BradleyTerryFactor    |     387 | 0.6340 | 0.6340 |  772.73 | 3111.01 |\n",
      "| BradleyTerryFactor    |     645 | 0.6547 | 0.6360 | 1288.69 | 5185.82 |\n",
      "| BradleyTerryFactor    |     645 | 0.6338 | 0.6338 | 1288.73 | 5185.86 |\n",
      "| BradleyTerryFactor    |     903 | 0.6546 | 0.6358 | 1804.69 | 7260.67 |\n",
      "| BradleyTerryFactor    |     903 | 0.6335 | 0.6335 | 1804.73 | 7260.71 |\n",
      "+-----------------------+---------+--------+--------+---------+---------+\n"
     ]
    }
   ],
   "source": [
    "# Model selection\n",
    "metrics = lb.evaluate.model_selection(models, train=False, tie=False, report=True)"
   ]
  },
  {
   "cell_type": "code",
   "execution_count": 17,
   "id": "2c9ffb79-b6c2-4ac2-9ef8-60ab130484e7",
   "metadata": {},
   "outputs": [
    {
     "name": "stdout",
     "output_type": "stream",
     "text": [
      "+-----------------------+----------------------------+--------+--------+\n",
      "|                       |             MAE            |        |        |\n",
      "| model                 |   win   loss    tie    all | KLD    | JSD %  |\n",
      "+-----------------------+----------------------------+--------+--------+\n",
      "| BradleyTerry          | 10.13  10.22  17.91  12.76 |    inf | 7.2576 |\n",
      "| BradleyTerry          |  4.98   4.98   0.00   3.32 | 0.0183 | 0.5276 |\n",
      "| BradleyTerryScaled    |  9.98  10.20  17.91  12.70 |    inf | 7.2299 |\n",
      "| BradleyTerryScaled    |  4.66   4.66   0.00   3.11 | 0.0171 | 0.4960 |\n",
      "| BradleyTerryFactor    |  9.98  10.13  17.91  12.67 |    inf | 7.2222 |\n",
      "| BradleyTerryFactor    |  4.52   4.52   0.00   3.01 | 0.0167 | 0.4859 |\n",
      "| BradleyTerryFactor    |  9.85  10.05  17.91  12.61 |    inf | 7.1924 |\n",
      "| BradleyTerryFactor    |  4.25   4.25   0.00   2.83 | 0.0155 | 0.4565 |\n",
      "| BradleyTerryFactor    |  9.86  10.01  17.91  12.59 |    inf | 7.1813 |\n",
      "| BradleyTerryFactor    |  3.98   3.98   0.00   2.66 | 0.0147 | 0.4352 |\n",
      "+-----------------------+----------------------------+--------+--------+\n"
     ]
    }
   ],
   "source": [
    "# Goodness of fit. This evaluates how well the model fits training data.\n",
    "metrics = lb.evaluate.goodness_of_fit(models, train=False, tie=True, metric='MAE', \n",
    "                                      density=True, report=True)"
   ]
  },
  {
   "cell_type": "code",
   "execution_count": 18,
   "id": "e04cfdbc-785b-4f69-b9dd-8966dbd8c4a8",
   "metadata": {},
   "outputs": [
    {
     "name": "stdout",
     "output_type": "stream",
     "text": [
      "+-----------------------+----------------------------+--------+--------+\n",
      "|                       |             MAE            |        |        |\n",
      "| model                 |   win   loss    tie    all | KLD    | JSD %  |\n",
      "+-----------------------+----------------------------+--------+--------+\n",
      "| BradleyTerry          | 10.45   9.74  17.63  12.61 |    inf | 7.0958 |\n",
      "| BradleyTerry          | 11.02   9.36  17.63  12.67 |    inf | 7.0616 |\n",
      "| BradleyTerryScaled    | 10.36   9.71  17.63  12.56 |    inf | 7.0897 |\n",
      "| BradleyTerryScaled    | 10.93   9.41  17.63  12.66 |    inf | 7.0650 |\n",
      "| BradleyTerryFactor    | 10.32   9.80  17.63  12.58 |    inf | 7.0863 |\n",
      "| BradleyTerryFactor    | 10.89   9.54  17.63  12.69 |    inf | 7.0635 |\n",
      "| BradleyTerryFactor    | 10.49   9.91  17.63  12.68 |    inf | 7.1103 |\n",
      "| BradleyTerryFactor    | 11.05   9.73  17.63  12.80 |    inf | 7.1141 |\n",
      "| BradleyTerryFactor    | 10.83  10.05  17.63  12.84 |    inf | 7.1955 |\n",
      "| BradleyTerryFactor    | 11.31   9.79  17.63  12.91 |    inf | 7.1520 |\n",
      "+-----------------------+----------------------------+--------+--------+\n"
     ]
    }
   ],
   "source": [
    "# Generalization. This evaluates how well the model predicts test data.\n",
    "metrics = lb.evaluate.generalization(models, test_data=test_data, train=False,\n",
    "                                     tie=True, metric='MAE', density=True,\n",
    "                                     report=True)"
   ]
  },
  {
   "cell_type": "code",
   "execution_count": null,
   "id": "0942b173-42c9-4561-bef6-1db7d360856f",
   "metadata": {},
   "outputs": [],
   "source": []
  }
 ],
 "metadata": {
  "kernelspec": {
   "display_name": "Python 3 (ipykernel)",
   "language": "python",
   "name": "python3"
  },
  "language_info": {
   "codemirror_mode": {
    "name": "ipython",
    "version": 3
   },
   "file_extension": ".py",
   "mimetype": "text/x-python",
   "name": "python",
   "nbconvert_exporter": "python",
   "pygments_lexer": "ipython3",
   "version": "3.12.1"
  }
 },
 "nbformat": 4,
 "nbformat_minor": 5
}
