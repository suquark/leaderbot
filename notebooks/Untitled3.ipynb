{
 "cells": [
  {
   "cell_type": "code",
   "execution_count": 1,
   "id": "a47d275a-32bd-4f6c-b27b-a0057318b7f2",
   "metadata": {},
   "outputs": [],
   "source": [
    "a = {\n",
    "    \"qwen2-72b-instruct\": \"qwen2-72b\",\n",
    "    \"nemotron-4-340b-instruct\": \"nemotron-4 340b\",\n",
    "    \"qwen1.5-110b-chat\": \"qwen1.5-110b\",\n",
    "    \"llama-13b\": \"llama-33b\",\n",
    "    \"llama-2-13b-chat\": \"llama-33b\",\n",
    "    \"llama-2-70b-chat\": \"llama-33b\",\n",
    "    \"llama-2-7b-chat\": \"llama-33b\",\n",
    "    \"llama-3-70b-instruct\": \"llama-33b\",\n",
    "    \"llama-3-8b-instruct\": \"llama-33b\",\n",
    "    \"llama-3.1-405b-instruct\": \"llama-33b\",\n",
    "    \"llama-3.1-70b-instruct\": \"llama-33b\",\n",
    "    \"llama-3.1-8b-instruct\": \"llama-33b\",\n",
    "    \"phi-3-medium-4k-instruct\": \"phi-3-medium 14b\",\n",
    "    \"phi-3-mini-128k-instruct\": \"phi-3-medium 14b\",\n",
    "    \"phi-3-mini-4k-instruct-june-2024\": \"phi-3-medium 14b\",\n",
    "    \"glm-4-0116\": \"glm-4 (0116)\",\n",
    "    \"glm-4-0520\": \"glm-4 all tools\",\n",
    "    \"falcon-180b-chat\": \"falcon-180b\",\n",
    "    \"qwen-14b-chat\": \"qwen-14b\",\n",
    "    \"qwen-max-0428\": \"qwen-72b\",\n",
    "    \"yi-1.5-34b-chat\": \"yi-large\",\n",
    "    \"yi-34b-chat\": \"yi-34b\",\n",
    "    \"yi-large\": \"yi-large\",\n",
    "    \"yi-large-preview\": \"yi-large\",\n",
    "    \"deepseek-coder-v2\": \"deepseek-coder-v2 236b\",\n",
    "    \"deepseek-coder-v2-0724\": \"deepseek-v2.5\",\n",
    "    \"deepseek-llm-67b-chat\": \"deepseek-v2.5\",\n",
    "    \"deepseek-v2-api-0628\": \"deepseek-v2\",\n",
    "    \"claude-1\": \"claude\",\n",
    "    \"claude-2.0\": \"claude\",\n",
    "    \"claude-2.1\": \"claude\",\n",
    "    \"claude-3-5-sonnet-20240620\": \"claude\",\n",
    "    \"claude-3-haiku-20240307\": \"claude\",\n",
    "    \"claude-3-opus-20240229\": \"claude\",\n",
    "    \"claude-3-sonnet-20240229\": \"claude\",\n",
    "    \"claude-instant-1\": \"claude\",\n",
    "    \"dbrx-instruct-preview\": \"dbrx\",\n",
    "    \"olmo-7b-instruct\": \"olmo-7b\",\n",
    "    \"gpt-3.5-turbo-0125\": \"gpt-3.5 turbo\",\n",
    "    \"gpt-3.5-turbo-0314\": \"gpt-3.5 turbo\",\n",
    "    \"gpt-3.5-turbo-0613\": \"gpt-3.5 turbo\",\n",
    "    \"gpt-3.5-turbo-1106\": \"gpt-3.5 turbo\",\n",
    "    \"gpt-4-0125-preview\": \"gpt-4\",\n",
    "    \"gpt-4-0314\": \"gpt-4\",\n",
    "    \"gpt-4-0613\": \"gpt-4\",\n",
    "    \"gpt-4-1106-preview\": \"gpt-4\",\n",
    "    \"gpt-4-turbo-2024-04-09\": \"gpt-4 turbo\",\n",
    "    \"gpt-4o-2024-05-13\": \"gpt-4o\",\n",
    "    \"gpt-4o-2024-08-06\": \"gpt-4o\",\n",
    "    \"gpt-4o-mini-2024-07-18\": \"gpt-4o mini\"\n",
    "}"
   ]
  },
  {
   "cell_type": "code",
   "execution_count": 2,
   "id": "f409c0ed-86c3-44a2-a41a-b0562846d3fa",
   "metadata": {},
   "outputs": [
    {
     "data": {
      "text/plain": [
       "50"
      ]
     },
     "execution_count": 2,
     "metadata": {},
     "output_type": "execute_result"
    }
   ],
   "source": [
    "len(a)"
   ]
  },
  {
   "cell_type": "code",
   "execution_count": null,
   "id": "b661f48d-e21d-42bc-948a-0f960134adb8",
   "metadata": {},
   "outputs": [],
   "source": []
  }
 ],
 "metadata": {
  "kernelspec": {
   "display_name": "Python 3 (ipykernel)",
   "language": "python",
   "name": "python3"
  },
  "language_info": {
   "codemirror_mode": {
    "name": "ipython",
    "version": 3
   },
   "file_extension": ".py",
   "mimetype": "text/x-python",
   "name": "python",
   "nbconvert_exporter": "python",
   "pygments_lexer": "ipython3",
   "version": "3.12.2"
  }
 },
 "nbformat": 4,
 "nbformat_minor": 5
}
