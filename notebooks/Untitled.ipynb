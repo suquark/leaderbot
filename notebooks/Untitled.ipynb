{
 "cells": [
  {
   "cell_type": "code",
   "execution_count": 14,
   "id": "3578953d-b91c-46a3-8847-fd0cf72e34e7",
   "metadata": {},
   "outputs": [],
   "source": [
    "import leaderbot as lb\n",
    "import numpy as np\n",
    "import matplotlib.pyplot as plt"
   ]
  },
  {
   "cell_type": "code",
   "execution_count": 2,
   "id": "e8b75995-bcf0-4399-be5d-d0b01fcac796",
   "metadata": {},
   "outputs": [],
   "source": [
    "data = lb.data.load()\n",
    "model = lb.models.DavidsonScaled(data)\n",
    "model.train()"
   ]
  },
  {
   "cell_type": "code",
   "execution_count": 6,
   "id": "2ac6d736-3ac7-47f3-8efa-4bdc990d0fff",
   "metadata": {},
   "outputs": [],
   "source": [
    "p_exp = model.infer()"
   ]
  },
  {
   "cell_type": "code",
   "execution_count": 7,
   "id": "80e3f4ac-5ed7-4fd8-867a-ac5516905512",
   "metadata": {},
   "outputs": [],
   "source": [
    "y = model.y\n",
    "y_sum = y.sum(axis=1, keepdims=True)\n",
    "\n",
    "p_obs = y / y_sum"
   ]
  },
  {
   "cell_type": "code",
   "execution_count": 19,
   "id": "088fffb8-efdf-4a32-a0a7-7a9e9fbbdc58",
   "metadata": {},
   "outputs": [],
   "source": [
    "def _get_g(model):\n",
    "    p_exp = model.infer()\n",
    "    \n",
    "    y = model.y\n",
    "    y_sum = y.sum(axis=1, keepdims=True)\n",
    "    \n",
    "    n_count = np.tile(y_sum, (1, 3))\n",
    "    n_exp = n_count * p_exp\n",
    "    \n",
    "    g = y * np.log(y / n_exp)\n",
    "    g[y == 0] = 0\n",
    "    g = g.sum()\n",
    "\n",
    "    return g"
   ]
  },
  {
   "cell_type": "code",
   "execution_count": 15,
   "id": "d14a2016-31ff-4abc-96fc-07c80572944c",
   "metadata": {},
   "outputs": [
    {
     "data": {
      "text/plain": [
       "[<matplotlib.lines.Line2D at 0x7739487991d0>]"
      ]
     },
     "execution_count": 15,
     "metadata": {},
     "output_type": "execute_result"
    },
    {
     "data": {
      "image/png": "[encoded data removed]",
      "text/plain": [
       "<Figure size 640x480 with 1 Axes>"
      ]
     },
     "metadata": {},
     "output_type": "display_data"
    }
   ],
   "source": [
    "a = y.sum(axis=1) - n_exp.sum(axis=1)\n"
   ]
  },
  {
   "cell_type": "code",
   "execution_count": 4,
   "id": "92d0e715-48c4-4f01-bbfe-4975e1563351",
   "metadata": {},
   "outputs": [
    {
     "name": "stdout",
     "output_type": "stream",
     "text": [
      "+-----------------------+---------+--------+--------+--------+--------+--------+---------+\n",
      "| name                  | # param | NLL    | CEL    | KLD    | JSD %  | AIC    | BIC     |\n",
      "+-----------------------+---------+--------+--------+--------+--------+--------+---------+\n",
      "| DavidsonScaled        |     259 | 1.0098 | 1.0098 | 0.0332 | 0.9223 | 515.98 | 2108.20 |\n",
      "+-----------------------+---------+--------+--------+--------+--------+--------+---------+\n"
     ]
    }
   ],
   "source": [
    "metrics = lb.evaluate(model)"
   ]
  },
  {
   "cell_type": "code",
   "execution_count": 47,
   "id": "77cbc2c4-1a49-4762-b149-b5106cf79826",
   "metadata": {},
   "outputs": [],
   "source": []
  },
  {
   "cell_type": "code",
   "execution_count": 48,
   "id": "a673ed6a-06de-4315-bc5c-5d3cc50d5ade",
   "metadata": {},
   "outputs": [
    {
     "data": {
      "text/plain": [
       "114.78433145882153"
      ]
     },
     "execution_count": 48,
     "metadata": {},
     "output_type": "execute_result"
    }
   ],
   "source": [
    "k = b.sum()\n",
    "k"
   ]
  },
  {
   "cell_type": "code",
   "execution_count": 49,
   "id": "024df3e9-09aa-44b4-aeef-3fdea0ac044d",
   "metadata": {},
   "outputs": [
    {
     "data": {
      "text/plain": [
       "1388415.1891511348"
      ]
     },
     "execution_count": 49,
     "metadata": {},
     "output_type": "execute_result"
    }
   ],
   "source": [
    "l = model.loss(return_jac=False, constraint=False) * model._count\n",
    "l"
   ]
  },
  {
   "cell_type": "code",
   "execution_count": 53,
   "id": "723d5bb3-49a2-4e91-ab53-1124634d9f41",
   "metadata": {},
   "outputs": [
    {
     "data": {
      "text/plain": [
       "12095.85987482293"
      ]
     },
     "execution_count": 53,
     "metadata": {},
     "output_type": "execute_result"
    }
   ],
   "source": [
    "l / k"
   ]
  },
  {
   "cell_type": "code",
   "execution_count": 58,
   "id": "04c5b0b1-e79a-481d-89ca-86eedc0ea9c0",
   "metadata": {},
   "outputs": [
    {
     "data": {
      "text/plain": [
       "1374996"
      ]
     },
     "execution_count": 58,
     "metadata": {},
     "output_type": "execute_result"
    }
   ],
   "source": [
    "y.sum()"
   ]
  },
  {
   "cell_type": "code",
   "execution_count": 33,
   "id": "5cc2ada0-685b-4b74-be86-792a2d47d019",
   "metadata": {},
   "outputs": [],
   "source": [
    "a = np.array([[0, 1, 2],\n",
    "              [0, 2, 4],\n",
    "              [0, 3, 6]])\n",
    "i, j = np.where(a == 0)"
   ]
  },
  {
   "cell_type": "code",
   "execution_count": 34,
   "id": "932355b1-1beb-4332-b22e-a05243c9d579",
   "metadata": {},
   "outputs": [
    {
     "data": {
      "text/plain": [
       "array([0, 0, 0])"
      ]
     },
     "execution_count": 34,
     "metadata": {},
     "output_type": "execute_result"
    }
   ],
   "source": [
    "a[i, j]"
   ]
  },
  {
   "cell_type": "code",
   "execution_count": 1,
   "id": "78873a73-acf7-4efb-be2e-fe63df6ae2ee",
   "metadata": {},
   "outputs": [
    {
     "data": {
      "text/plain": [
       "2"
      ]
     },
     "execution_count": 1,
     "metadata": {},
     "output_type": "execute_result"
    }
   ],
   "source": [
    "max(1, 2)"
   ]
  },
  {
   "cell_type": "code",
   "execution_count": null,
   "id": "4e1172cd-2ce8-4828-9e75-5b7cc2545103",
   "metadata": {},
   "outputs": [],
   "source": []
  }
 ],
 "metadata": {
  "kernelspec": {
   "display_name": "Python 3 (ipykernel)",
   "language": "python",
   "name": "python3"
  },
  "language_info": {
   "codemirror_mode": {
    "name": "ipython",
    "version": 3
   },
   "file_extension": ".py",
   "mimetype": "text/x-python",
   "name": "python",
   "nbconvert_exporter": "python",
   "pygments_lexer": "ipython3",
   "version": "3.12.1"
  }
 },
 "nbformat": 4,
 "nbformat_minor": 5
}
