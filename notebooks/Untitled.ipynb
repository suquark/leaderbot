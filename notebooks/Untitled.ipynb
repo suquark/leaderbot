{
 "cells": [
  {
   "cell_type": "code",
   "execution_count": 2,
   "id": "75d91bc3-7f17-4172-99fc-5ac9448a4c55",
   "metadata": {},
   "outputs": [],
   "source": [
    "import numpy as np"
   ]
  },
  {
   "cell_type": "code",
   "execution_count": 15,
   "id": "81f25d96-a3a3-4bce-8195-53ed83b87814",
   "metadata": {},
   "outputs": [
    {
     "data": {
      "text/plain": [
       "array([[ 1.46036383,  1.80778558,  0.40624317,  0.57363359, -0.33522611,\n",
       "         1.2314131 ],\n",
       "       [ 1.80778558, 16.99516218,  3.24483866, -0.46120257, -0.2301705 ,\n",
       "         7.72283184],\n",
       "       [ 0.40624317,  3.24483866,  6.87223665, -2.59780335, -0.7260679 ,\n",
       "         1.6966011 ],\n",
       "       [ 0.57363359, -0.46120257, -2.59780335,  6.29994749, -2.19561696,\n",
       "         1.85842369],\n",
       "       [-0.33522611, -0.2301705 , -0.7260679 , -2.19561696,  1.70410665,\n",
       "        -0.24638131],\n",
       "       [ 1.2314131 ,  7.72283184,  1.6966011 ,  1.85842369, -0.24638131,\n",
       "         7.16997409]])"
      ]
     },
     "execution_count": 15,
     "metadata": {},
     "output_type": "execute_result"
    }
   ],
   "source": [
    "n = 6\n",
    "S = np.random.randn(n, n)\n",
    "S = S.T @ S\n",
    "S"
   ]
  },
  {
   "cell_type": "code",
   "execution_count": 32,
   "id": "777728dd-fee7-41e4-87c6-5d3b2de20034",
   "metadata": {},
   "outputs": [],
   "source": [
    "SS = S - np.tile(np.mean(S, axis=0), (n, 1))"
   ]
  },
  {
   "cell_type": "code",
   "execution_count": 33,
   "id": "1528df76-93db-40cd-a860-81c93d43f36c",
   "metadata": {},
   "outputs": [
    {
     "data": {
      "text/plain": [
       "array([ 1.85037171e-17, -2.96059473e-16, -1.48029737e-16,  3.70074342e-17,\n",
       "        2.77555756e-17,  1.48029737e-16])"
      ]
     },
     "execution_count": 33,
     "metadata": {},
     "output_type": "execute_result"
    }
   ],
   "source": [
    "SS.mean(axis=0)"
   ]
  },
  {
   "cell_type": "code",
   "execution_count": 16,
   "id": "4413ec5a-a4d6-465b-8f5b-5579212fb067",
   "metadata": {},
   "outputs": [
    {
     "data": {
      "text/plain": [
       "array([[ 1.52341486, -2.1183354 , -0.15601166,  0.91448983,  0.9234198 ,\n",
       "        -1.08697743],\n",
       "       [-2.1183354 ,  9.0798692 , -1.30658818, -4.10951833, -2.96069659,\n",
       "         1.41526931],\n",
       "       [-0.15601166, -1.30658818,  5.68467595, -2.88225297, -0.09272785,\n",
       "        -1.24709529],\n",
       "       [ 0.91448983, -4.10951833, -2.88225297,  6.91860894, -0.65916584,\n",
       "        -0.18216163],\n",
       "       [ 0.9234198 , -2.96069659, -0.09272785, -0.65916584,  4.15834744,\n",
       "        -1.36917696],\n",
       "       [-1.08697743,  1.41526931, -1.24709529, -0.18216163, -1.36917696,\n",
       "         2.470142  ]])"
      ]
     },
     "execution_count": 16,
     "metadata": {},
     "output_type": "execute_result"
    }
   ],
   "source": [
    "Id = np.eye(n, dtype=float)\n",
    "J = np.ones((n, n), dtype=float)\n",
    "C = Id - J / n\n",
    "\n",
    "Sc = C @ S @ C\n",
    "Sc"
   ]
  },
  {
   "cell_type": "code",
   "execution_count": 17,
   "id": "07910101-1d1f-466f-aa53-3fe100dfae2f",
   "metadata": {},
   "outputs": [
    {
     "data": {
      "text/plain": [
       "array([[ 0.        , 14.83995486,  7.52011414,  6.61304414,  3.83492271,\n",
       "         6.16751172],\n",
       "       [14.83995486,  0.        , 17.3777215 , 24.21751481, 19.15960982,\n",
       "         8.71947258],\n",
       "       [ 7.52011414, 17.3777215 ,  0.        , 18.36779084, 10.02847909,\n",
       "        10.64900853],\n",
       "       [ 6.61304414, 24.21751481, 18.36779084,  0.        , 12.39528806,\n",
       "         9.7530742 ],\n",
       "       [ 3.83492271, 19.15960982, 10.02847909, 12.39528806,  0.        ,\n",
       "         9.36684335],\n",
       "       [ 6.16751172,  8.71947258, 10.64900853,  9.7530742 ,  9.36684335,\n",
       "         0.        ]])"
      ]
     },
     "execution_count": 17,
     "metadata": {},
     "output_type": "execute_result"
    }
   ],
   "source": [
    "D = np.zeros((n, n))\n",
    "\n",
    "for i in range(n):\n",
    "    for j in range(n):\n",
    "        D[i, j] = S[i, i] + S[j, j] - 2.0 * S[i, j]\n",
    "\n",
    "D"
   ]
  },
  {
   "cell_type": "code",
   "execution_count": 18,
   "id": "64a7873c-07a0-49d0-a2f3-204db3ddd686",
   "metadata": {},
   "outputs": [
    {
     "data": {
      "text/plain": [
       "40.50179088180978"
      ]
     },
     "execution_count": 18,
     "metadata": {},
     "output_type": "execute_result"
    }
   ],
   "source": [
    "a = np.trace(S)\n",
    "a"
   ]
  },
  {
   "cell_type": "code",
   "execution_count": 19,
   "id": "a61051a0-8294-48dd-bd9b-69cfa2dc3f97",
   "metadata": {},
   "outputs": [
    {
     "data": {
      "text/plain": [
       "29.835058391069243"
      ]
     },
     "execution_count": 19,
     "metadata": {},
     "output_type": "execute_result"
    }
   ],
   "source": [
    "b = np.trace(C @ S @C)\n",
    "b"
   ]
  },
  {
   "cell_type": "code",
   "execution_count": 20,
   "id": "70d3addd-91bb-4f46-a25f-64639f4d3366",
   "metadata": {},
   "outputs": [
    {
     "data": {
      "text/plain": [
       "358.0207006928309"
      ]
     },
     "execution_count": 20,
     "metadata": {},
     "output_type": "execute_result"
    }
   ],
   "source": [
    "c = np.sum(D)\n",
    "c"
   ]
  },
  {
   "cell_type": "code",
   "execution_count": 21,
   "id": "f215449e-23e4-4c32-bbfc-e1e4a50ba8f6",
   "metadata": {},
   "outputs": [
    {
     "data": {
      "text/plain": [
       "12.0"
      ]
     },
     "execution_count": 21,
     "metadata": {},
     "output_type": "execute_result"
    }
   ],
   "source": [
    "c / b"
   ]
  },
  {
   "cell_type": "code",
   "execution_count": 10,
   "id": "350969ec-9f3b-41a4-9227-93eb1e6099d5",
   "metadata": {},
   "outputs": [
    {
     "data": {
      "text/plain": [
       "array([], dtype=float64)"
      ]
     },
     "execution_count": 10,
     "metadata": {},
     "output_type": "execute_result"
    }
   ],
   "source": [
    "idx = slice(0, 0)\n",
    "b_ = b[idx]\n",
    "b_"
   ]
  },
  {
   "cell_type": "code",
   "execution_count": 11,
   "id": "e13c6b0a-6d2a-49a7-8a75-58eb4d935d01",
   "metadata": {},
   "outputs": [
    {
     "ename": "ValueError",
     "evalue": "cannot reshape array of size 0 into shape (3,2)",
     "output_type": "error",
     "traceback": [
      "\u001b[0;31m---------------------------------------------------------------------------\u001b[0m",
      "\u001b[0;31mValueError\u001b[0m                                Traceback (most recent call last)",
      "Cell \u001b[0;32mIn[11], line 1\u001b[0m\n\u001b[0;32m----> 1\u001b[0m \u001b[43mb_\u001b[49m\u001b[38;5;241;43m.\u001b[39;49m\u001b[43mreshape\u001b[49m\u001b[43m(\u001b[49m\u001b[38;5;241;43m3\u001b[39;49m\u001b[43m,\u001b[49m\u001b[43m \u001b[49m\u001b[38;5;241;43m2\u001b[39;49m\u001b[43m)\u001b[49m\n",
      "\u001b[0;31mValueError\u001b[0m: cannot reshape array of size 0 into shape (3,2)"
     ]
    }
   ],
   "source": [
    "b_.reshape(3, 2)"
   ]
  },
  {
   "cell_type": "code",
   "execution_count": null,
   "id": "503a6233-5611-4d14-a548-00aefabdbc49",
   "metadata": {},
   "outputs": [],
   "source": []
  }
 ],
 "metadata": {
  "kernelspec": {
   "display_name": "Python 3 (ipykernel)",
   "language": "python",
   "name": "python3"
  },
  "language_info": {
   "codemirror_mode": {
    "name": "ipython",
    "version": 3
   },
   "file_extension": ".py",
   "mimetype": "text/x-python",
   "name": "python",
   "nbconvert_exporter": "python",
   "pygments_lexer": "ipython3",
   "version": "3.12.1"
  }
 },
 "nbformat": 4,
 "nbformat_minor": 5
}
