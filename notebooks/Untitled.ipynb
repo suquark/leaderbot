{
 "cells": [
  {
   "cell_type": "code",
   "execution_count": 1,
   "id": "75d91bc3-7f17-4172-99fc-5ac9448a4c55",
   "metadata": {},
   "outputs": [],
   "source": [
    "import numpy as np"
   ]
  },
  {
   "cell_type": "code",
   "execution_count": 2,
   "id": "81f25d96-a3a3-4bce-8195-53ed83b87814",
   "metadata": {},
   "outputs": [
    {
     "data": {
      "text/plain": [
       "array([[ 0.69430722,  0.93367953, -0.15018657, -1.18225324, -0.04784818],\n",
       "       [ 0.93367953,  5.49542933,  0.80044105, -1.3743059 , -0.02707753],\n",
       "       [-0.15018657,  0.80044105,  4.51555136,  2.5604538 , -0.85247416],\n",
       "       [-1.18225324, -1.3743059 ,  2.5604538 ,  4.79990332, -0.89692051],\n",
       "       [-0.04784818, -0.02707753, -0.85247416, -0.89692051,  2.30934034]])"
      ]
     },
     "execution_count": 2,
     "metadata": {},
     "output_type": "execute_result"
    }
   ],
   "source": [
    "n = 5\n",
    "A = np.random.randn(n, n)\n",
    "A = A.T @ A\n",
    "A"
   ]
  },
  {
   "cell_type": "code",
   "execution_count": 3,
   "id": "4413ec5a-a4d6-465b-8f5b-5579212fb067",
   "metadata": {},
   "outputs": [
    {
     "data": {
      "text/plain": [
       "array([[ 1.28888964,  0.4121684 , -0.88082149, -1.31950656,  0.49927   ],\n",
       "       [ 0.4121684 ,  3.85782467, -1.04628742, -2.62765276, -0.59605289],\n",
       "       [-0.88082149, -1.04628742,  2.4596991 ,  1.09798313, -1.63057332],\n",
       "       [-1.31950656, -2.62765276,  1.09798313,  3.93081426, -1.08163807],\n",
       "       [ 0.49927   , -0.59605289, -1.63057332, -1.08163807,  2.80899428]])"
      ]
     },
     "execution_count": 3,
     "metadata": {},
     "output_type": "execute_result"
    }
   ],
   "source": [
    "def cov_center(A):\n",
    "\n",
    "    Id = np.eye(n, dtype=float)\n",
    "    J = np.ones((n, n), dtype=float)\n",
    "    C = Id - J / n\n",
    "    \n",
    "    Ac = C @ A @ C\n",
    "    return Ac\n",
    "\n",
    "Ac = cov_center(A)\n",
    "Ac"
   ]
  },
  {
   "cell_type": "code",
   "execution_count": 4,
   "id": "07910101-1d1f-466f-aa53-3fe100dfae2f",
   "metadata": {},
   "outputs": [
    {
     "data": {
      "text/plain": [
       "array([[ 0.        ,  4.3223775 ,  5.51023172,  7.85871702,  3.09934392],\n",
       "       [ 4.3223775 ,  0.        ,  8.4100986 , 13.04394445,  7.85892473],\n",
       "       [ 5.51023172,  8.4100986 ,  0.        ,  4.19454709,  8.52984003],\n",
       "       [ 7.85871702, 13.04394445,  4.19454709,  0.        ,  8.90308468],\n",
       "       [ 3.09934392,  7.85892473,  8.52984003,  8.90308468,  0.        ]])"
      ]
     },
     "execution_count": 4,
     "metadata": {},
     "output_type": "execute_result"
    }
   ],
   "source": [
    "def var_diff(A):\n",
    "    d = np.array([np.diag(A)]).reshape(n, 1)\n",
    "    e = np.ones((n, 1))\n",
    "    \n",
    "    S = d @ e.T + e @ d.T - 2.0 * A\n",
    "    return S\n",
    "\n",
    "S = var_diff(A)\n",
    "S"
   ]
  },
  {
   "cell_type": "code",
   "execution_count": 5,
   "id": "02ba9063-19c0-43e2-a4f4-24c303026777",
   "metadata": {},
   "outputs": [
    {
     "data": {
      "text/plain": [
       "1.0"
      ]
     },
     "execution_count": 5,
     "metadata": {},
     "output_type": "execute_result"
    }
   ],
   "source": [
    "np.sum(S) / (2.0 * n * np.trace(Ac))"
   ]
  },
  {
   "cell_type": "code",
   "execution_count": 7,
   "id": "011022a2-8ec0-4ba5-af6c-d7751b931871",
   "metadata": {},
   "outputs": [
    {
     "data": {
      "text/plain": [
       "array([-1.35810813e-15,  1.00459258e+00,  1.59692898e+00,  4.13203484e+00,\n",
       "        7.61266555e+00])"
      ]
     },
     "execution_count": 7,
     "metadata": {},
     "output_type": "execute_result"
    }
   ],
   "source": [
    "e = np.linalg.eigh(Ac)[0]\n",
    "e"
   ]
  },
  {
   "cell_type": "code",
   "execution_count": 13,
   "id": "01063c72-8557-4abb-a37c-bcd54e8340c6",
   "metadata": {},
   "outputs": [
    {
     "data": {
      "text/plain": [
       "array([-15.2445879 ,  -8.31108782,  -3.67682394,  -2.18778844,\n",
       "        29.42028811])"
      ]
     },
     "execution_count": 13,
     "metadata": {},
     "output_type": "execute_result"
    }
   ],
   "source": [
    "e = np.linalg.eigh(S)[0]\n",
    "e"
   ]
  },
  {
   "cell_type": "code",
   "execution_count": 11,
   "id": "5cb97767-8b39-4594-ab45-635322e8c36a",
   "metadata": {},
   "outputs": [
    {
     "data": {
      "text/plain": [
       "array([-4.69687463e-16,  1.00459258e+00,  1.59692898e+00,  4.13203484e+00,\n",
       "        7.61266555e+00])"
      ]
     },
     "execution_count": 11,
     "metadata": {},
     "output_type": "execute_result"
    }
   ],
   "source": [
    "Q = -0.5 * cov_center(S)\n",
    "\n",
    "e = np.linalg.eigh(Q)[0]\n",
    "e"
   ]
  },
  {
   "cell_type": "code",
   "execution_count": null,
   "id": "eaec4fe7-e657-4be1-8352-de8c6a8b19f2",
   "metadata": {},
   "outputs": [],
   "source": []
  }
 ],
 "metadata": {
  "kernelspec": {
   "display_name": "Python 3 (ipykernel)",
   "language": "python",
   "name": "python3"
  },
  "language_info": {
   "codemirror_mode": {
    "name": "ipython",
    "version": 3
   },
   "file_extension": ".py",
   "mimetype": "text/x-python",
   "name": "python",
   "nbconvert_exporter": "python",
   "pygments_lexer": "ipython3",
   "version": "3.12.2"
  }
 },
 "nbformat": 4,
 "nbformat_minor": 5
}
