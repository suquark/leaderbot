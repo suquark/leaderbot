{
 "cells": [
  {
   "cell_type": "code",
   "execution_count": 1,
   "id": "34c45cce-9195-44c8-84df-e8a11488e65b",
   "metadata": {},
   "outputs": [],
   "source": [
    "import numpy as np"
   ]
  },
  {
   "cell_type": "code",
   "execution_count": 11,
   "id": "8f25e864-9c09-4c3e-a9c9-11cd970c853b",
   "metadata": {},
   "outputs": [],
   "source": [
    "n = 5\n",
    "e = np.ones((n, 1), dtype=float)\n",
    "a = np.random.randn(n, 1)\n",
    "b = np.random.randn(n, 1)\n",
    "c = np.random.randn(n, 1)\n",
    "d = np.random.randn(n, 1)"
   ]
  },
  {
   "cell_type": "code",
   "execution_count": 9,
   "id": "fa38d987-62cf-4ea3-93f5-748289b80761",
   "metadata": {},
   "outputs": [
    {
     "data": {
      "text/plain": [
       "1"
      ]
     },
     "execution_count": 9,
     "metadata": {},
     "output_type": "execute_result"
    }
   ],
   "source": [
    "A = a @ e.T# + e @ a.T\n",
    "np.linalg.matrix_rank(A)"
   ]
  },
  {
   "cell_type": "code",
   "execution_count": 16,
   "id": "0890bf1b-2c67-4312-8b63-3c210fdade88",
   "metadata": {},
   "outputs": [
    {
     "data": {
      "text/plain": [
       "3"
      ]
     },
     "execution_count": 16,
     "metadata": {},
     "output_type": "execute_result"
    }
   ],
   "source": [
    "A = a @ e.T + e @ a.T + b @ c.T# + c @ b.T\n",
    "np.linalg.matrix_rank(A)"
   ]
  },
  {
   "cell_type": "code",
   "execution_count": 36,
   "id": "a6611c39-c1c8-4279-a998-ea3ee0a6894f",
   "metadata": {},
   "outputs": [
    {
     "data": {
      "text/plain": [
       "2"
      ]
     },
     "execution_count": 36,
     "metadata": {},
     "output_type": "execute_result"
    }
   ],
   "source": [
    "n = 10\n",
    "k = 1\n",
    "E = np.random.randn(n, k)\n",
    "Q, R = np.linalg.qr(E)\n",
    "B = np.random.randn(n, k)\n",
    "\n",
    "A = B @ Q.T + Q @ B.T\n",
    "np.linalg.matrix_rank(A)"
   ]
  },
  {
   "cell_type": "code",
   "execution_count": 34,
   "id": "d980c4c9-95af-41d5-ad68-de8f152b00fb",
   "metadata": {},
   "outputs": [
    {
     "data": {
      "text/plain": [
       "array([[-0.16354259,  0.13644484,  0.02438181],\n",
       "       [ 0.45367318, -0.23029658, -0.23071258],\n",
       "       [ 0.44640767,  0.25472169,  0.03638228],\n",
       "       [ 0.21134241, -0.60166186,  0.37749208],\n",
       "       [ 0.19461176, -0.04085011, -0.50411089],\n",
       "       [ 0.30398683,  0.4073325 , -0.11176893],\n",
       "       [-0.01516671, -0.12340816,  0.26107372],\n",
       "       [ 0.10824433,  0.55895995,  0.3618782 ],\n",
       "       [ 0.59305977, -0.07282446,  0.01656891],\n",
       "       [-0.17187371, -0.03014066, -0.57995116]])"
      ]
     },
     "execution_count": 34,
     "metadata": {},
     "output_type": "execute_result"
    }
   ],
   "source": [
    "Q"
   ]
  },
  {
   "cell_type": "code",
   "execution_count": null,
   "id": "43c8ea76-8b69-4d36-bb5c-e3fe69edf735",
   "metadata": {},
   "outputs": [],
   "source": []
  }
 ],
 "metadata": {
  "kernelspec": {
   "display_name": "Python 3 (ipykernel)",
   "language": "python",
   "name": "python3"
  },
  "language_info": {
   "codemirror_mode": {
    "name": "ipython",
    "version": 3
   },
   "file_extension": ".py",
   "mimetype": "text/x-python",
   "name": "python",
   "nbconvert_exporter": "python",
   "pygments_lexer": "ipython3",
   "version": "3.12.1"
  }
 },
 "nbformat": 4,
 "nbformat_minor": 5
}
