{
 "cells": [
  {
   "cell_type": "code",
   "execution_count": 1,
   "id": "fd87da62-db6f-4edf-b74a-a44686d60722",
   "metadata": {},
   "outputs": [],
   "source": [
    "import leaderbot\n",
    "import leaderbot as lb\n",
    "import numpy as np\n",
    "import matplotlib.pyplot as plt\n",
    "import texplot\n",
    "import time\n",
    "import scipy"
   ]
  },
  {
   "cell_type": "code",
   "execution_count": 2,
   "id": "e50b80f3-958d-43c3-81a7-65cd192ccb1b",
   "metadata": {},
   "outputs": [],
   "source": [
    "data = lb.data.load()\n",
    "\n",
    "agents = np.array(data['models'])\n",
    "x = np.array(data['X'])\n",
    "y = np.array(data['Y'])\n",
    "n_agents = len(agents)\n",
    "\n",
    "# Clean empty data\n",
    "y_sum = np.sum(y, axis=1)\n",
    "ind_valid = y_sum != 0\n",
    "x = x[ind_valid]\n",
    "y = y[ind_valid]"
   ]
  },
  {
   "cell_type": "code",
   "execution_count": 3,
   "id": "410a82a1-80a5-4fd8-b853-e2c01d4802f8",
   "metadata": {},
   "outputs": [],
   "source": [
    "# wins, losses, ties = y[:, 0], y[:, 1], y[:, 2]\n",
    "\n",
    "# n_wins = np.zeros((n_agents,), dtype=int)\n",
    "# n_losses = np.zeros((n_agents,), dtype=int)\n",
    "# n_ties = np.zeros((n_agents,), dtype=int)\n",
    "# n_games = np.zeros((n_agents,), dtype=int)\n",
    "\n",
    "# for i in range(n_agents):\n",
    "#     ind_0 = (x[:, 0] == i)\n",
    "#     ind_1 = (x[:, 1] == i)\n",
    "#     n_wins[i] = np.sum(wins[ind_0]) + np.sum(losses[ind_1])\n",
    "#     n_losses[i] = np.sum(losses[ind_0]) + np.sum(wins[ind_1])\n",
    "#     n_ties[i] = np.sum(ties[ind_0]) + np.sum(ties[ind_1])\n",
    "\n",
    "# n_matches = n_wins + n_losses + n_ties\n",
    "# p_wins = n_wins / n_matches\n",
    "# p_losses = n_losses / n_matches\n",
    "# p_ties = n_ties / n_matches"
   ]
  },
  {
   "cell_type": "code",
   "execution_count": 9,
   "id": "ef52eb88-5195-4639-a869-4a04e549ed97",
   "metadata": {},
   "outputs": [],
   "source": [
    "#algs = [davidson, davidson_scaled, davidson_scaled_r, davidson_scaled_rij]\n",
    "model = lb.DavidsonScaled(data)\n",
    "model.train()"
   ]
  },
  {
   "cell_type": "code",
   "execution_count": 10,
   "id": "e130e721-3970-41df-96d4-844388385ec8",
   "metadata": {},
   "outputs": [],
   "source": [
    "p_pred = model.infer()"
   ]
  },
  {
   "cell_type": "markdown",
   "id": "fabba8b1-c67c-4bb6-baa8-b1643c63cb09",
   "metadata": {},
   "source": [
    "# Evaluate All"
   ]
  },
  {
   "cell_type": "code",
   "execution_count": 1,
   "id": "63f3e57f-7ce3-4c61-afc2-440e5b037b5a",
   "metadata": {},
   "outputs": [],
   "source": [
    "import leaderbot as lb\n",
    "import numpy as np"
   ]
  },
  {
   "cell_type": "code",
   "execution_count": 2,
   "id": "fdbef98d-8a74-43a3-bafa-ecc52cb612b1",
   "metadata": {},
   "outputs": [],
   "source": [
    "data = lb.data.load()\n",
    "training_data, test_data = lb.data.split(data, test_ratio=0.1, seed=20)"
   ]
  },
  {
   "cell_type": "code",
   "execution_count": 3,
   "id": "ac027df5-a575-4929-867e-e0a1c33d6a3e",
   "metadata": {},
   "outputs": [],
   "source": [
    "from copy import deepcopy\n",
    "\n",
    "training_data_no_tie = deepcopy(training_data)\n",
    "test_data_no_tie = deepcopy(test_data)\n",
    "\n",
    "training_data_no_tie['Y'][:, -1] = 0\n",
    "test_data_no_tie['Y'][:, -1] = 0"
   ]
  },
  {
   "cell_type": "code",
   "execution_count": 4,
   "id": "5c01697e-e84b-49cd-8514-8a78c7ebb06d",
   "metadata": {},
   "outputs": [],
   "source": [
    "n_tie = 0\n",
    "\n",
    "models = [\n",
    "    lb.models.BradleyTerry(training_data),\n",
    "    lb.models.RaoKupper(training_data, n_tie_factors=n_tie),\n",
    "    lb.models.Davidson(training_data, n_tie_factors=n_tie)\n",
    "]"
   ]
  },
  {
   "cell_type": "code",
   "execution_count": 13,
   "id": "272c62c3-d8f2-4e43-ae78-5ed3f98de3a9",
   "metadata": {},
   "outputs": [],
   "source": [
    "n_tie = 1\n",
    "n_cov = 2\n",
    "\n",
    "models = [\n",
    "    lb.models.BradleyTerryFactor(training_data, n_cov_factors=n_cov),\n",
    "    lb.models.RaoKupperFactor(training_data, n_cov_factors=n_cov, n_tie_factors=n_tie),\n",
    "    lb.models.DavidsonFactor(training_data, n_cov_factors=n_cov, n_tie_factors=n_tie)\n",
    "]"
   ]
  },
  {
   "cell_type": "code",
   "execution_count": 66,
   "id": "0c7d3302-7f71-404b-93d5-42198442794f",
   "metadata": {},
   "outputs": [],
   "source": [
    "n_tie = 0\n",
    "n_cov = 0\n",
    "\n",
    "models = [\n",
    "    lb.models.BradleyTerry(training_data_no_tie),\n",
    "    lb.models.BradleyTerryScaled(training_data_no_tie),\n",
    "    lb.models.BradleyTerryScaledR(training_data_no_tie),\n",
    "    # lb.models.BradleyTerryScaledRIJ(training_data, n_tie_factors=n_tie),\n",
    "    lb.models.BradleyTerryFactor(training_data_no_tie, n_cov_factors=n_cov),\n",
    "    \n",
    "    lb.models.RaoKupper(training_data, n_tie_factors=n_tie),\n",
    "    lb.models.RaoKupperScaled(training_data, n_tie_factors=n_tie),\n",
    "    lb.models.RaoKupperScaledR(training_data, n_tie_factors=n_tie),\n",
    "    # lb.models.RaoKupperScaledRIJ(dtraining_data, n_tie_factors=n_tie),\n",
    "    lb.models.RaoKupperFactor(training_data, n_cov_factors=n_cov, n_tie_factors=n_tie),\n",
    "    \n",
    "    lb.models.Davidson(training_data, n_tie_factors=n_tie),\n",
    "    lb.models.DavidsonScaled(training_data, n_tie_factors=n_tie),\n",
    "    lb.models.DavidsonScaledR(training_data, n_tie_factors=n_tie),\n",
    "    # lb.models.DavidsonScaledRIJ(training_data, n_tie_factors=n_tie),\n",
    "    lb.models.DavidsonFactor(training_data, n_cov_factors=n_cov, n_tie_factors=n_tie)\n",
    "]"
   ]
  },
  {
   "cell_type": "code",
   "execution_count": 5,
   "id": "5d6a63c5-c6eb-4743-8181-d58c583f52a2",
   "metadata": {},
   "outputs": [
    {
     "name": "stdout",
     "output_type": "stream",
     "text": [
      "training BradleyTerry          ... done.\n",
      "training RaoKupper             ... done.\n",
      "training Davidson              ... done.\n"
     ]
    }
   ],
   "source": [
    "for model in models:\n",
    "\n",
    "    name = model.__class__.__name__\n",
    "    if name.endswith('ScaledRIJ'):\n",
    "        method = 'L-BFGS-B'\n",
    "    else:\n",
    "        method = 'BFGS'\n",
    "\n",
    "    print(f'training {name:<21} ... ', end='')\n",
    "    model.train()\n",
    "    print('done.')"
   ]
  },
  {
   "cell_type": "code",
   "execution_count": 6,
   "id": "58827223-d1e7-4018-9778-862977c9b7d0",
   "metadata": {},
   "outputs": [
    {
     "name": "stdout",
     "output_type": "stream",
     "text": [
      "+-----------------------+---------+--------+--------+---------+---------+\n",
      "| model                 | # param | NLL    | CEL    | AIC     | BIC     |\n",
      "+-----------------------+---------+--------+--------+---------+---------+\n",
      "| BradleyTerry          |     129 | 0.6552 |    inf |  256.69 | 1036.11 |\n",
      "| RaoKupper             |     130 | 1.0094 | 1.0094 |  257.98 | 1043.45 |\n",
      "| Davidson              |     130 | 1.0100 | 1.0100 |  257.98 | 1043.45 |\n",
      "+-----------------------+---------+--------+--------+---------+---------+\n"
     ]
    }
   ],
   "source": [
    "metrics = lb.evaluate.model_selection(models, train=False, tie=True, report=True)"
   ]
  },
  {
   "cell_type": "code",
   "execution_count": 7,
   "id": "3f409161-f9d1-451b-9d02-1b3e916bc7a5",
   "metadata": {},
   "outputs": [
    {
     "name": "stdout",
     "output_type": "stream",
     "text": [
      "+-----------------------+----------------------------+--------+--------+\n",
      "|                       |             MAE            |        |        |\n",
      "| model                 |   win   loss    tie    all | KLD    | JSD %  |\n",
      "+-----------------------+----------------------------+--------+--------+\n",
      "| BradleyTerry          | 10.13  10.22  17.91  12.76 |    inf | 7.2576 |\n",
      "| RaoKupper             |  4.76   4.85   4.67   4.76 | 0.0335 | 0.9255 |\n",
      "| Davidson              |  4.78   4.89   4.90   4.86 | 0.0343 | 0.9502 |\n",
      "+-----------------------+----------------------------+--------+--------+\n"
     ]
    }
   ],
   "source": [
    "metrics = lb.evaluate.goodness_of_fit(models, train=False, tie=True, metric='MAE', \n",
    "                                      density=True, report=True)"
   ]
  },
  {
   "cell_type": "code",
   "execution_count": 8,
   "id": "289e6599-0f6a-4a9e-9cb0-2bf97f10723e",
   "metadata": {},
   "outputs": [
    {
     "name": "stdout",
     "output_type": "stream",
     "text": [
      "+-----------------------+----------------------------+--------+--------+\n",
      "|                       |             MAE            |        |        |\n",
      "| model                 |   win   loss    tie    all | KLD    | JSD %  |\n",
      "+-----------------------+----------------------------+--------+--------+\n",
      "| BradleyTerry          | 10.45   9.74  17.63  12.61 |    inf | 7.0958 |\n",
      "| RaoKupper             |  4.51   4.77   4.46   4.58 | 0.0316 | 0.8765 |\n",
      "| Davidson              |  4.56   4.81   4.68   4.68 | 0.0328 | 0.9122 |\n",
      "+-----------------------+----------------------------+--------+--------+\n"
     ]
    }
   ],
   "source": [
    "metrics = lb.evaluate.generalization(models, test_data=test_data, train=False, tie=True,\n",
    "                                     metric='MAE', density=True, report=True)"
   ]
  },
  {
   "cell_type": "code",
   "execution_count": null,
   "id": "36a37bb7-a099-4884-80fb-6354644e1ff9",
   "metadata": {},
   "outputs": [],
   "source": []
  }
 ],
 "metadata": {
  "kernelspec": {
   "display_name": "Python 3 (ipykernel)",
   "language": "python",
   "name": "python3"
  },
  "language_info": {
   "codemirror_mode": {
    "name": "ipython",
    "version": 3
   },
   "file_extension": ".py",
   "mimetype": "text/x-python",
   "name": "python",
   "nbconvert_exporter": "python",
   "pygments_lexer": "ipython3",
   "version": "3.12.1"
  }
 },
 "nbformat": 4,
 "nbformat_minor": 5
}
