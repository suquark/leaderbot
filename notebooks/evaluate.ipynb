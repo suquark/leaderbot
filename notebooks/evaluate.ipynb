{
 "cells": [
  {
   "cell_type": "markdown",
   "id": "fabba8b1-c67c-4bb6-baa8-b1643c63cb09",
   "metadata": {},
   "source": [
    "# Evaluate Models"
   ]
  },
  {
   "cell_type": "code",
   "execution_count": 1,
   "id": "63f3e57f-7ce3-4c61-afc2-440e5b037b5a",
   "metadata": {},
   "outputs": [],
   "source": [
    "import leaderbot as lb\n",
    "import numpy as np\n",
    "import pickle"
   ]
  },
  {
   "cell_type": "markdown",
   "id": "589c8570-cad5-4f85-beec-bbe83b88b489",
   "metadata": {},
   "source": [
    "## Load Data with 100% Traing (no test)\n",
    "\n",
    "This is used to generate tables D.1 and D.2, bit not D.3."
   ]
  },
  {
   "cell_type": "code",
   "execution_count": 8,
   "id": "ebd8c015-367d-42c4-9cf7-c6632851ba37",
   "metadata": {},
   "outputs": [
    {
     "name": "stdout",
     "output_type": "stream",
     "text": [
      "x86_64\n",
      "128\n"
     ]
    }
   ],
   "source": [
    "# Load form file instead\n",
    "filename = '../benchmark/models_train_full.pkl'\n",
    "# filename = '../benchmark/models_train_full_both_ties.pkl'\n",
    "with open(filename, 'rb') as f:\n",
    "    results = pickle.load(f)\n",
    "\n",
    "models = results['models']\n",
    "proc_time = np.array(results['proc_time'])\n",
    "wall_time = np.array(results['wall_time'])\n",
    "print(results['device'])\n",
    "print(results['num_proc'])"
   ]
  },
  {
   "cell_type": "markdown",
   "id": "09f1bf75-f156-4f9f-85bd-cd54efa8f268",
   "metadata": {},
   "source": [
    "# Process Time (Table D.1 in paper)\n",
    "\n",
    "In the unit of seconds."
   ]
  },
  {
   "cell_type": "code",
   "execution_count": 3,
   "id": "40487090-e5dd-4061-afac-e332ac3f3076",
   "metadata": {},
   "outputs": [
    {
     "name": "stdout",
     "output_type": "stream",
     "text": [
      "    2.3 \n",
      "    3.8 \n",
      "   34.1 \n",
      "    0.0 \n",
      "    1.7 \n",
      "   27.5 \n",
      "    5.8 \n",
      "    6.9 \n",
      "  208.1 \n",
      "  396.9 \n",
      "    8.4 \n",
      "    7.5 \n",
      "  293.7 \n",
      "  664.9 \n",
      "   36.0 \n",
      "   36.9 \n",
      "  363.5 \n",
      "  817.3 \n",
      "    6.0 \n",
      "   10.5 \n",
      "  253.2 \n",
      "  602.8 \n",
      "    8.7 \n",
      "    8.3 \n",
      "  286.9 \n",
      "  665.1 \n",
      "   34.6 \n",
      "   35.8 \n",
      "  366.4 \n",
      "  804.9 \n"
     ]
    }
   ],
   "source": [
    "for i in range(proc_time.size):\n",
    "    # print(f'{proc_time[i]:>7.1f}  {wall_time[i]:>7.1f} ')\n",
    "    print(f'{wall_time[i]:>7.1f} ')"
   ]
  },
  {
   "cell_type": "markdown",
   "id": "a4a1f2f9-0d02-4ce5-b58b-33620e8e6946",
   "metadata": {},
   "source": [
    "# Model Selection (Table D.1 in paper)"
   ]
  },
  {
   "cell_type": "code",
   "execution_count": 4,
   "id": "58827223-d1e7-4018-9778-862977c9b7d0",
   "metadata": {},
   "outputs": [
    {
     "name": "stdout",
     "output_type": "stream",
     "text": [
      "+----+-----------------------+---------+--------+--------------------------------+---------+---------+\n",
      "|    |                       |         |        |               CEL              |         |         |\n",
      "| id | model                 | # param |    NLL |    all     win    loss     tie |     AIC |     BIC |\n",
      "+----+-----------------------+---------+--------+--------------------------------+---------+---------+\n",
      "|  1 | BradleyTerry          |     129 | 0.6554 | 0.6553  0.3177  0.3376     inf |   256.7 |  1049.7 |\n",
      "|  2 | BradleyTerryScaled    |     258 | 0.6552 | 0.6551  0.3180  0.3371     inf |   514.7 |  2100.8 |\n",
      "|  3 | BradleyTerryFactor    |     645 | 0.6549 | 0.6548  0.3178  0.3370     inf |  1288.7 |  5253.9 |\n",
      "|  4 | BradleyTerry          |     129 | 0.6351 | 0.6351  0.3056  0.3295     inf |   256.7 |  1049.8 |\n",
      "|  5 | BradleyTerryScaled    |     258 | 0.6346 | 0.6346  0.3059  0.3287     inf |   514.7 |  2100.8 |\n",
      "|  6 | BradleyTerryFactor    |     645 | 0.6342 | 0.6342  0.3057  0.3285     inf |  1288.7 |  5253.9 |\n",
      "|  7 | RaoKupper             |     130 | 1.0095 | 1.0095  0.3405  0.3462  0.3227 |   258.0 |  1057.2 |\n",
      "|  8 | RaoKupper             |     258 | 1.0106 | 1.0106  0.3401  0.3459  0.3245 |   514.0 |  2100.1 |\n",
      "|  9 | RaoKupper             |    1419 | 1.0055 | 1.0055  0.3404  0.3455  0.3196 |  2836.0 | 11559.4 |\n",
      "| 10 | RaoKupper             |    2709 | 1.0050 | 1.0050  0.3403  0.3455  0.3192 |  5416.0 | 22069.8 |\n",
      "| 11 | RaoKupperScaled       |     259 | 1.0092 | 1.0092  0.3408  0.3457  0.3228 |   516.0 |  2108.2 |\n",
      "| 12 | RaoKupperScaled       |     387 | 1.0103 | 1.0103  0.3404  0.3454  0.3245 |   772.0 |  3151.1 |\n",
      "| 13 | RaoKupperScaled       |    1548 | 1.0052 | 1.0052  0.3407  0.3449  0.3196 |  3094.0 | 12610.4 |\n",
      "| 14 | RaoKupperScaled       |    2838 | 1.0048 | 1.0048  0.3406  0.3449  0.3193 |  5674.0 | 23120.8 |\n",
      "| 15 | RaoKupperFactor       |     646 | 1.0089 | 1.0089  0.3405  0.3457  0.3227 |  1290.0 |  5261.3 |\n",
      "| 16 | RaoKupperFactor       |     774 | 1.0100 | 1.0100  0.3400  0.3454  0.3245 |  1546.0 |  6304.2 |\n",
      "| 17 | RaoKupperFactor       |    1935 | 1.0049 | 1.0049  0.3403  0.3449  0.3196 |  3868.0 | 15763.6 |\n",
      "| 18 | RaoKupperFactor       |    3225 | 1.0044 | 1.0044  0.3403  0.3449  0.3193 |  6448.0 | 26273.9 |\n",
      "| 19 | Davidson              |     130 | 1.0100 | 1.0100  0.3409  0.3461  0.3231 |   258.0 |  1057.2 |\n",
      "| 20 | Davidson              |     258 | 1.0077 | 1.0077  0.3413  0.3466  0.3198 |   514.0 |  2100.1 |\n",
      "| 21 | Davidson              |    1419 | 1.0057 | 1.0057  0.3404  0.3456  0.3197 |  2836.0 | 11559.4 |\n",
      "| 22 | Davidson              |    2709 | 1.0052 | 1.0052  0.3404  0.3455  0.3193 |  5416.0 | 22069.8 |\n",
      "| 23 | DavidsonScaled        |     259 | 1.0098 | 1.0098  0.3411  0.3455  0.3231 |   516.0 |  2108.2 |\n",
      "| 24 | DavidsonScaled        |     387 | 1.0074 | 1.0074  0.3415  0.3460  0.3200 |   772.0 |  3151.1 |\n",
      "| 25 | DavidsonScaled        |    1548 | 1.0055 | 1.0055  0.3407  0.3451  0.3197 |  3094.0 | 12610.4 |\n",
      "| 26 | DavidsonScaled        |    2838 | 1.0050 | 1.0050  0.3407  0.3450  0.3194 |  5674.0 | 23120.8 |\n",
      "| 27 | DavidsonFactor        |     646 | 1.0094 | 1.0094  0.3410  0.3453  0.3231 |  1290.0 |  5261.3 |\n",
      "| 28 | DavidsonFactor        |     774 | 1.0070 | 1.0070  0.3412  0.3460  0.3199 |  1546.0 |  6304.2 |\n",
      "| 29 | DavidsonFactor        |    1935 | 1.0051 | 1.0051  0.3407  0.3448  0.3197 |  3868.0 | 15763.6 |\n",
      "| 30 | DavidsonFactor        |    3225 | 1.0047 | 1.0047  0.3405  0.3448  0.3194 |  6448.0 | 26273.9 |\n",
      "+----+-----------------------+---------+--------+--------------------------------+---------+---------+\n"
     ]
    }
   ],
   "source": [
    "# Model selection\n",
    "metrics = lb.evaluate.model_selection(models, train=False, tie=False, report=True)"
   ]
  },
  {
   "cell_type": "markdown",
   "id": "de6074dd-f76e-4b42-8eeb-3b11725055a6",
   "metadata": {},
   "source": [
    "# Model Fit (Table D.2 in paper)"
   ]
  },
  {
   "cell_type": "code",
   "execution_count": 6,
   "id": "d0dcfc34-b8c6-4c6a-ad16-5ea1fabd7bde",
   "metadata": {},
   "outputs": [
    {
     "name": "stdout",
     "output_type": "stream",
     "text": [
      "+----+-----------------------+----------------------------+------+------+\n",
      "|    |                       |            RMSE            |      |      |\n",
      "| id | model                 |   win   loss    tie    all | KLD% | JSD% |\n",
      "+----+-----------------------+----------------------------+------+------+\n",
      "|  1 | BradleyTerry          |  29.7   29.7  -----   29.7 | 1.49 | 0.44 |\n",
      "|  2 | BradleyTerryScaled    |  26.2   26.2  -----   26.2 | 1.42 | 0.42 |\n",
      "|  3 | BradleyTerryFactor    |  17.4   17.4  -----   17.4 | 1.30 | 0.39 |\n",
      "|  4 | BradleyTerry          |  35.1   35.1  -----   35.1 | 1.82 | 0.52 |\n",
      "|  5 | BradleyTerryScaled    |  31.5   31.5  -----   31.5 | 1.71 | 0.49 |\n",
      "|  6 | BradleyTerryFactor    |  17.3   17.3  -----   17.3 | 1.58 | 0.46 |\n",
      "|  7 | RaoKupper             |  48.2   69.9  103.5   77.3 | 3.32 | 0.92 |\n",
      "|  8 | RaoKupper             |  46.4   67.8   99.2   74.3 | 3.45 | 0.91 |\n",
      "|  9 | RaoKupper             |  34.1   34.2   23.1   30.9 | 2.63 | 0.73 |\n",
      "| 10 | RaoKupper             |  34.3   32.2   16.8   28.8 | 2.35 | 0.65 |\n",
      "| 11 | RaoKupperScaled       |  46.5   67.9  103.6   76.4 | 3.23 | 0.90 |\n",
      "| 12 | RaoKupperScaled       |  43.5   66.8   99.4   73.5 | 3.36 | 0.89 |\n",
      "| 13 | RaoKupperScaled       |  29.8   31.6   22.7   28.3 | 2.55 | 0.70 |\n",
      "| 14 | RaoKupperScaled       |  30.4   29.1   16.7   26.1 | 2.26 | 0.63 |\n",
      "| 15 | RaoKupperFactor       |  49.0   61.7  104.7   75.6 | 3.09 | 0.86 |\n",
      "| 16 | RaoKupperFactor       |  48.6   58.7  100.9   73.0 | 3.18 | 0.84 |\n",
      "| 17 | RaoKupperFactor       |  20.0   21.2   22.1   21.1 | 2.42 | 0.67 |\n",
      "| 18 | RaoKupperFactor       |  18.7   18.9   15.8   17.9 | 2.12 | 0.59 |\n",
      "| 19 | Davidson              |  51.0   71.8  109.8   81.3 | 3.41 | 0.94 |\n",
      "| 20 | Davidson              |  44.4   63.3   90.1   68.6 | 2.99 | 0.82 |\n",
      "| 21 | Davidson              |  37.1   39.6   25.7   34.7 | 2.69 | 0.75 |\n",
      "| 22 | Davidson              |  37.7   37.1   17.2   32.1 | 2.50 | 0.70 |\n",
      "| 23 | DavidsonScaled        |  49.4   70.5  109.9   80.6 | 3.32 | 0.92 |\n",
      "| 24 | DavidsonScaled        |  41.1   62.4   91.4   68.1 | 2.94 | 0.81 |\n",
      "| 25 | DavidsonScaled        |  32.8   37.7   27.0   32.8 | 2.73 | 0.76 |\n",
      "| 26 | DavidsonScaled        |  35.7   32.6   18.8   30.0 | 2.56 | 0.72 |\n",
      "| 27 | DavidsonFactor        |  55.1   61.1  111.0   79.8 | 3.18 | 0.89 |\n",
      "| 28 | DavidsonFactor        |  46.5   50.0   90.6   65.5 | 2.80 | 0.78 |\n",
      "| 29 | DavidsonFactor        |  20.8   22.0   25.0   22.7 | 2.57 | 0.72 |\n",
      "| 30 | DavidsonFactor        |  19.1   19.0   17.1   18.4 | 2.43 | 0.68 |\n",
      "+----+-----------------------+----------------------------+------+------+\n"
     ]
    }
   ],
   "source": [
    "# Goodness of fit. This evaluates how well the model fits training data.\n",
    "metrics = lb.evaluate.goodness_of_fit(models, train=False, tie=False, metric='RMSE', \n",
    "                                      density=False, report=True)"
   ]
  },
  {
   "cell_type": "markdown",
   "id": "70cd7b18-a751-41ee-9d53-068ce7aa2fc3",
   "metadata": {},
   "source": [
    "# Generalization (Table D.3 in paper)\n",
    "\n",
    "For this, load data with 90% trainign and 10% split.\n",
    "\n",
    "## Load 90% training / 10% tets split data"
   ]
  },
  {
   "cell_type": "code",
   "execution_count": 9,
   "id": "3c7a1981-c733-4abc-9cc4-9e9b7a20d989",
   "metadata": {},
   "outputs": [
    {
     "name": "stdout",
     "output_type": "stream",
     "text": [
      "x86_64\n",
      "128\n"
     ]
    }
   ],
   "source": [
    "# Load form file instead\n",
    "filename = '../benchmark/models_train_split.pkl'\n",
    "# filename = '../benchmark/models_train_split_both_ties.pkl'\n",
    "with open(filename, 'rb') as f:\n",
    "    results = pickle.load(f)\n",
    "\n",
    "models = results['models']\n",
    "test_data = results['test_data']\n",
    "test_data_no_tie = results['test_data_no_tie']\n",
    "print(results['device'])\n",
    "print(results['num_proc'])"
   ]
  },
  {
   "cell_type": "markdown",
   "id": "970b9c20-751f-46f3-bfd5-580e612bfbc8",
   "metadata": {},
   "source": [
    "### NOTE (do not read rows 4-6):\n",
    "\n",
    "In the following, where we used ``test_data=test_data``, use the table data for only rows 1-3, and 7-30. Do not read the followning table data for rows 4-6. See the one table after this to properly generate data for rows 4-6."
   ]
  },
  {
   "cell_type": "code",
   "execution_count": 11,
   "id": "289e6599-0f6a-4a9e-9cb0-2bf97f10723e",
   "metadata": {},
   "outputs": [
    {
     "name": "stdout",
     "output_type": "stream",
     "text": [
      "+----+-----------------------+----------------------------+------+------+\n",
      "|    |                       |            RMSE            |      |      |\n",
      "| id | model                 |   win   loss    tie    all | KLD% | JSD% |\n",
      "+----+-----------------------+----------------------------+------+------+\n",
      "|  1 | BradleyTerry          | 248.6  231.7  477.4  338.3 |  inf | 7.10 |\n",
      "|  2 | BradleyTerryScaled    | 246.0  234.5  477.4  338.4 |  inf | 7.09 |\n",
      "|  3 | BradleyTerryFactor    | 240.3  240.2  477.4  338.3 |  inf | 7.11 |\n",
      "|  4 | BradleyTerry          | 232.8  256.2  477.4  340.5 |  inf | 7.06 |\n",
      "|  5 | BradleyTerryScaled    | 230.5  260.9  477.4  341.1 |  inf | 7.06 |\n",
      "|  6 | BradleyTerryFactor    | 223.5  268.6  477.4  341.6 |  inf | 7.11 |\n",
      "|  7 | RaoKupper             |  54.5   29.1   67.4   52.8 | 3.16 | 0.88 |\n",
      "|  8 | RaoKupper             |  49.9   41.9   74.3   57.0 | 3.31 | 0.87 |\n",
      "|  9 | RaoKupper             |  26.3   38.6   32.1   32.7 | 3.17 | 0.85 |\n",
      "| 10 | RaoKupper             |  29.0   56.3   66.4   53.0 | 4.14 | 1.00 |\n",
      "| 11 | RaoKupperScaled       |  52.9   31.5   67.8   52.9 | 3.19 | 0.88 |\n",
      "| 12 | RaoKupperScaled       |  46.8   45.5   75.0   57.4 | 3.31 | 0.87 |\n",
      "| 13 | RaoKupperScaled       |  25.9   38.5   31.6   32.4 | 3.10 | 0.84 |\n",
      "| 14 | RaoKupperScaled       |  30.2   54.3   64.6   51.7 | 4.66 | 1.06 |\n",
      "| 15 | RaoKupperFactor       |  50.3   33.8   68.1   52.6 | 3.31 | 0.90 |\n",
      "| 16 | RaoKupperFactor       |  51.6   42.1   75.0   57.9 | 3.59 | 0.93 |\n",
      "| 17 | RaoKupperFactor       |  28.5   34.9   32.3   32.0 | 3.25 | 0.87 |\n",
      "| 18 | RaoKupperFactor       |  35.9   59.6   67.1   55.8 | 4.71 | 1.07 |\n",
      "| 19 | Davidson              |  54.7   30.8   70.0   54.3 | 3.28 | 0.91 |\n",
      "| 20 | Davidson              |  43.1   24.6   42.7   37.8 | 2.76 | 0.77 |\n",
      "| 21 | Davidson              |  27.6   41.8   31.4   34.2 | 2.95 | 0.81 |\n",
      "| 22 | Davidson              |  28.6   65.5   73.4   59.1 | 3.42 | 0.93 |\n",
      "| 23 | DavidsonScaled        |  54.0   32.8   70.2   54.5 | 3.31 | 0.92 |\n",
      "| 24 | DavidsonScaled        |  44.2   26.2   45.0   39.4 | 2.91 | 0.81 |\n",
      "| 25 | DavidsonScaled        |  26.9   40.0   28.6   32.3 | 3.06 | 0.84 |\n",
      "| 26 | DavidsonScaled        |  31.0   68.3   80.4   63.5 | 3.51 | 0.96 |\n",
      "| 27 | DavidsonFactor        |  52.5   34.2   70.2   54.3 | 3.40 | 0.93 |\n",
      "| 28 | DavidsonFactor        |  40.7   28.2   44.0   38.2 | 2.87 | 0.79 |\n",
      "| 29 | DavidsonFactor        |  33.6   32.7   28.5   31.7 | 3.31 | 0.89 |\n",
      "| 30 | DavidsonFactor        |  32.8   71.6   83.3   66.2 | 3.70 | 1.00 |\n",
      "+----+-----------------------+----------------------------+------+------+\n"
     ]
    }
   ],
   "source": [
    "# Generalization. This evaluates how well the model predicts test data.\n",
    "metrics = lb.evaluate.generalization(models, test_data=test_data, train=False,\n",
    "                                     tie=False, metric='RMSE', density=False,\n",
    "                                     report=True)"
   ]
  },
  {
   "cell_type": "markdown",
   "id": "a812fa55-0a55-4c46-be0a-6d9686cabba6",
   "metadata": {},
   "source": [
    "### NOTE (read only rows 4-6):\n",
    "\n",
    "In the following, where we used ``test_data=test_data_no_tie``, use the table data to read only rows 4-6, and discard all other rows. For all other rows, read the table in the above."
   ]
  },
  {
   "cell_type": "code",
   "execution_count": 12,
   "id": "6ca21ea2-7b3e-4cfd-843b-3da7fdb86913",
   "metadata": {},
   "outputs": [
    {
     "name": "stdout",
     "output_type": "stream",
     "text": [
      "+----+-----------------------+----------------------------+------+------+\n",
      "|    |                       |            RMSE            |      |      |\n",
      "| id | model                 |   win   loss    tie    all | KLD% | JSD% |\n",
      "+----+-----------------------+----------------------------+------+------+\n",
      "|  1 | BradleyTerry          |  54.7   54.7  -----   54.7 | 1.86 | 0.52 |\n",
      "|  2 | BradleyTerryScaled    |  52.6   52.6  -----   52.6 | 1.84 | 0.51 |\n",
      "|  3 | BradleyTerryFactor    |  52.8   52.8  -----   52.8 | 1.94 | 0.54 |\n",
      "|  4 | BradleyTerry          |  30.0   30.0  -----   30.0 | 1.74 | 0.48 |\n",
      "|  5 | BradleyTerryScaled    |  30.3   30.3  -----   30.3 | 1.77 | 0.48 |\n",
      "|  6 | BradleyTerryFactor    |  30.4   30.4  -----   30.4 | 2.06 | 0.54 |\n",
      "|  7 | RaoKupper             | 156.6  197.2  338.5  243.6 | 24.06 | 7.91 |\n",
      "|  8 | RaoKupper             | 163.7  201.3  351.1  252.0 | 21.41 | 7.06 |\n",
      "|  9 | RaoKupper             | 165.0  218.2  370.1  265.7 | 22.13 | 7.28 |\n",
      "| 10 | RaoKupper             | 168.8  227.7  384.0  275.6 | 20.78 | 6.83 |\n",
      "| 11 | RaoKupperScaled       | 157.7  194.7  338.2  243.0 | 24.01 | 7.89 |\n",
      "| 12 | RaoKupperScaled       | 165.4  197.8  350.6  251.3 | 21.37 | 7.04 |\n",
      "| 13 | RaoKupperScaled       | 166.5  216.1  370.0  265.4 | 22.14 | 7.27 |\n",
      "| 14 | RaoKupperScaled       | 170.3  225.6  383.9  275.2 | 20.89 | 6.85 |\n",
      "| 15 | RaoKupperFactor       | 156.7  194.0  338.0  242.5 | 24.14 | 7.91 |\n",
      "| 16 | RaoKupperFactor       | 168.1  198.5  351.4  252.4 | 21.55 | 7.07 |\n",
      "| 17 | RaoKupperFactor       | 171.2  211.8  370.7  265.6 | 22.24 | 7.29 |\n",
      "| 18 | RaoKupperFactor       | 172.5  228.5  386.0  277.5 | 21.00 | 6.86 |\n",
      "| 19 | Davidson              | 154.6  193.7  333.3  239.8 | 24.29 | 7.99 |\n",
      "| 20 | Davidson              | 159.9  201.2  346.5  249.1 | 22.65 | 7.46 |\n",
      "| 21 | Davidson              | 163.1  221.6  370.3  266.3 | 22.60 | 7.44 |\n",
      "| 22 | Davidson              | 167.8  235.0  388.6  279.5 | 23.31 | 7.65 |\n",
      "| 23 | DavidsonScaled        | 155.9  191.7  333.2  239.5 | 24.27 | 7.98 |\n",
      "| 24 | DavidsonScaled        | 159.6  199.4  345.0  247.8 | 22.90 | 7.53 |\n",
      "| 25 | DavidsonScaled        | 162.5  216.3  365.0  262.3 | 23.38 | 7.68 |\n",
      "| 26 | DavidsonScaled        | 170.6  234.5  391.7  281.4 | 24.50 | 8.03 |\n",
      "| 27 | DavidsonFactor        | 161.1  187.6  333.4  239.6 | 24.40 | 8.01 |\n",
      "| 28 | DavidsonFactor        | 163.7  194.9  345.5  247.8 | 22.80 | 7.48 |\n",
      "| 29 | DavidsonFactor        | 173.9  201.0  365.8  261.1 | 23.53 | 7.69 |\n",
      "| 30 | DavidsonFactor        | 172.4  236.6  394.2  283.5 | 24.74 | 8.08 |\n",
      "+----+-----------------------+----------------------------+------+------+\n"
     ]
    }
   ],
   "source": [
    "# Generalization. This evaluates how well the model predicts test data.\n",
    "metrics = lb.evaluate.generalization(models, test_data=test_data_no_tie, train=False,\n",
    "                                     tie=False, metric='RMSE', density=False,\n",
    "                                     report=True)"
   ]
  },
  {
   "cell_type": "code",
   "execution_count": null,
   "id": "1f27190d-5a89-4138-a7e6-9d3ce4850b4c",
   "metadata": {},
   "outputs": [],
   "source": []
  }
 ],
 "metadata": {
  "kernelspec": {
   "display_name": "Python 3 (ipykernel)",
   "language": "python",
   "name": "python3"
  },
  "language_info": {
   "codemirror_mode": {
    "name": "ipython",
    "version": 3
   },
   "file_extension": ".py",
   "mimetype": "text/x-python",
   "name": "python",
   "nbconvert_exporter": "python",
   "pygments_lexer": "ipython3",
   "version": "3.12.2"
  }
 },
 "nbformat": 4,
 "nbformat_minor": 5
}
