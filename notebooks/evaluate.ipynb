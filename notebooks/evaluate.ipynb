{
 "cells": [
  {
   "cell_type": "code",
   "execution_count": 1,
   "id": "fd87da62-db6f-4edf-b74a-a44686d60722",
   "metadata": {},
   "outputs": [],
   "source": [
    "import leaderbot\n",
    "import leaderbot as lb\n",
    "import numpy as np\n",
    "import matplotlib.pyplot as plt\n",
    "import texplot\n",
    "import time\n",
    "import scipy"
   ]
  },
  {
   "cell_type": "code",
   "execution_count": 2,
   "id": "e50b80f3-958d-43c3-81a7-65cd192ccb1b",
   "metadata": {},
   "outputs": [],
   "source": [
    "data = lb.data.load()\n",
    "\n",
    "agents = np.array(data['models'])\n",
    "x = np.array(data['X'])\n",
    "y = np.array(data['Y'])\n",
    "n_agents = len(agents)\n",
    "\n",
    "# Clean empty data\n",
    "y_sum = np.sum(y, axis=1)\n",
    "ind_valid = y_sum != 0\n",
    "x = x[ind_valid]\n",
    "y = y[ind_valid]"
   ]
  },
  {
   "cell_type": "code",
   "execution_count": 3,
   "id": "410a82a1-80a5-4fd8-b853-e2c01d4802f8",
   "metadata": {},
   "outputs": [],
   "source": [
    "# wins, losses, ties = y[:, 0], y[:, 1], y[:, 2]\n",
    "\n",
    "# n_wins = np.zeros((n_agents,), dtype=int)\n",
    "# n_losses = np.zeros((n_agents,), dtype=int)\n",
    "# n_ties = np.zeros((n_agents,), dtype=int)\n",
    "# n_games = np.zeros((n_agents,), dtype=int)\n",
    "\n",
    "# for i in range(n_agents):\n",
    "#     ind_0 = (x[:, 0] == i)\n",
    "#     ind_1 = (x[:, 1] == i)\n",
    "#     n_wins[i] = np.sum(wins[ind_0]) + np.sum(losses[ind_1])\n",
    "#     n_losses[i] = np.sum(losses[ind_0]) + np.sum(wins[ind_1])\n",
    "#     n_ties[i] = np.sum(ties[ind_0]) + np.sum(ties[ind_1])\n",
    "\n",
    "# n_matches = n_wins + n_losses + n_ties\n",
    "# p_wins = n_wins / n_matches\n",
    "# p_losses = n_losses / n_matches\n",
    "# p_ties = n_ties / n_matches"
   ]
  },
  {
   "cell_type": "code",
   "execution_count": 9,
   "id": "ef52eb88-5195-4639-a869-4a04e549ed97",
   "metadata": {},
   "outputs": [],
   "source": [
    "#algs = [davidson, davidson_scaled, davidson_scaled_r, davidson_scaled_rij]\n",
    "model = lb.DavidsonScaled(data)\n",
    "model.train()"
   ]
  },
  {
   "cell_type": "code",
   "execution_count": 10,
   "id": "e130e721-3970-41df-96d4-844388385ec8",
   "metadata": {},
   "outputs": [],
   "source": [
    "p_pred = model.infer()"
   ]
  },
  {
   "cell_type": "markdown",
   "id": "fabba8b1-c67c-4bb6-baa8-b1643c63cb09",
   "metadata": {},
   "source": [
    "# Evaluate All"
   ]
  },
  {
   "cell_type": "code",
   "execution_count": 1,
   "id": "63f3e57f-7ce3-4c61-afc2-440e5b037b5a",
   "metadata": {},
   "outputs": [],
   "source": [
    "import leaderbot as lb\n",
    "import numpy as np"
   ]
  },
  {
   "cell_type": "code",
   "execution_count": 2,
   "id": "fdbef98d-8a74-43a3-bafa-ecc52cb612b1",
   "metadata": {},
   "outputs": [],
   "source": [
    "data = lb.data.load()\n",
    "training_data, test_data = lb.data.split(data, test_ratio=0.2)"
   ]
  },
  {
   "cell_type": "code",
   "execution_count": 26,
   "id": "ac027df5-a575-4929-867e-e0a1c33d6a3e",
   "metadata": {},
   "outputs": [],
   "source": [
    "training_data_no_tie = training_data.copy()\n",
    "test_data_no_tie = test_data.copy()\n",
    "\n",
    "training_data_no_tie['Y'][:, -1] = 0\n",
    "test_data_no_tie['Y'][:, -1] = 0"
   ]
  },
  {
   "cell_type": "code",
   "execution_count": 3,
   "id": "5c01697e-e84b-49cd-8514-8a78c7ebb06d",
   "metadata": {},
   "outputs": [],
   "source": [
    "n_tie_factors = 1\n",
    "\n",
    "models = [\n",
    "    lb.models.BradleyTerry(training_data),\n",
    "    lb.models.RaoKupper(training_data, n_tie_factors=n_tie_factors),\n",
    "    lb.models.Davidson(training_data, n_tie_factors=n_tie_factors)\n",
    "]"
   ]
  },
  {
   "cell_type": "code",
   "execution_count": 13,
   "id": "272c62c3-d8f2-4e43-ae78-5ed3f98de3a9",
   "metadata": {},
   "outputs": [],
   "source": [
    "n_tie = 1\n",
    "n_cov = 2\n",
    "\n",
    "models = [\n",
    "    lb.models.BradleyTerryFactor(training_data, n_cov_factors=n_cov),\n",
    "    lb.models.RaoKupperFactor(training_data, n_cov_factors=n_cov, n_tie_factors=n_tie),\n",
    "    lb.models.DavidsonFactor(training_data, n_cov_factors=n_cov, n_tie_factors=n_tie)\n",
    "]"
   ]
  },
  {
   "cell_type": "code",
   "execution_count": 27,
   "id": "0c7d3302-7f71-404b-93d5-42198442794f",
   "metadata": {},
   "outputs": [],
   "source": [
    "n_tie = 1\n",
    "n_cov = 2\n",
    "\n",
    "models = [\n",
    "    lb.models.BradleyTerry(training_data_no_tie),\n",
    "    lb.models.BradleyTerryScaled(training_data_no_tie),\n",
    "    lb.models.BradleyTerryScaledR(training_data_no_tie),\n",
    "    # lb.models.BradleyTerryScaledRIJ(training_data, n_tie_factors=n_tie),\n",
    "    lb.models.BradleyTerryFactor(training_data, n_cov_factors=n_cov),\n",
    "    \n",
    "    lb.models.RaoKupper(training_data, n_tie_factors=n_tie),\n",
    "    lb.models.RaoKupperScaled(training_data, n_tie_factors=n_tie),\n",
    "    lb.models.RaoKupperScaledR(training_data, n_tie_factors=n_tie),\n",
    "    # lb.models.RaoKupperScaledRIJ(dtraining_data, n_tie_factors=n_tie),\n",
    "    lb.models.RaoKupperFactor(training_data, n_cov_factors=n_cov, n_tie_factors=n_tie),\n",
    "    \n",
    "    lb.models.Davidson(training_data, n_tie_factors=n_tie),\n",
    "    lb.models.DavidsonScaled(training_data, n_tie_factors=n_tie),\n",
    "    lb.models.DavidsonScaledR(training_data, n_tie_factors=n_tie),\n",
    "    # lb.models.DavidsonScaledRIJ(training_data, n_tie_factors=n_tie),\n",
    "    lb.models.DavidsonFactor(training_data, n_cov_factors=n_cov, n_tie_factors=n_tie)\n",
    "]"
   ]
  },
  {
   "cell_type": "code",
   "execution_count": 28,
   "id": "5d6a63c5-c6eb-4743-8181-d58c583f52a2",
   "metadata": {},
   "outputs": [
    {
     "name": "stdout",
     "output_type": "stream",
     "text": [
      "training BradleyTerry          ... done.\n",
      "training BradleyTerryScaled    ... done.\n",
      "training BradleyTerryScaledR   ... done.\n",
      "training BradleyTerryFactor    ... done.\n",
      "training RaoKupper             ... done.\n",
      "training RaoKupperScaled       ... done.\n",
      "training RaoKupperScaledR      ... done.\n",
      "training RaoKupperFactor       ... done.\n",
      "training Davidson              ... done.\n",
      "training DavidsonScaled        ... done.\n",
      "training DavidsonScaledR       ... done.\n",
      "training DavidsonFactor        ... done.\n"
     ]
    }
   ],
   "source": [
    "for model in models:\n",
    "\n",
    "    name = model.__class__.__name__\n",
    "    if name.endswith('ScaledRIJ'):\n",
    "        method = 'L-BFGS-B'\n",
    "    else:\n",
    "        method = 'BFGS'\n",
    "\n",
    "    print(f'training {name:<21} ... ', end='')\n",
    "    model.train()\n",
    "    print('done.')"
   ]
  },
  {
   "cell_type": "code",
   "execution_count": 29,
   "id": "58827223-d1e7-4018-9778-862977c9b7d0",
   "metadata": {},
   "outputs": [
    {
     "name": "stdout",
     "output_type": "stream",
     "text": [
      "+-----------------------+---------+--------+--------+--------+---------+\n",
      "| model                 | # param | NLL    | CEL    | AIC    | BIC     |\n",
      "+-----------------------+---------+--------+--------+--------+---------+\n",
      "| BradleyTerry          |     129 | 0.6336 | 0.6336 | 256.73 | 1020.98 |\n",
      "| BradleyTerryScaled    |     258 | 0.6331 | 0.6331 | 514.73 | 2043.24 |\n",
      "| BradleyTerryScaledR   |     259 | 0.6331 | 0.6331 | 516.73 | 2051.16 |\n",
      "| BradleyTerryFactor    |     516 | 0.6327 | 0.6327 | 1030.73 | 4087.74 |\n",
      "| RaoKupper             |     258 | 0.6520 | 0.6520 | 514.70 | 2043.20 |\n",
      "| RaoKupperScaled       |     387 | 0.6377 | 0.6377 | 772.72 | 3065.48 |\n",
      "| RaoKupperScaledR      |     388 | 0.6377 | 0.6377 | 774.72 | 3073.40 |\n",
      "| RaoKupperFactor       |     645 | 0.6374 | 0.6374 | 1288.73 | 5109.99 |\n",
      "| Davidson              |     258 | 0.6336 | 0.6336 | 514.73 | 2043.24 |\n",
      "| DavidsonScaled        |     387 | 0.6332 | 0.6332 | 772.73 | 3065.49 |\n",
      "| DavidsonScaledR       |     388 | 0.6332 | 0.6332 | 774.73 | 3073.41 |\n",
      "| DavidsonFactor        |     645 | 0.6332 | 0.6332 | 1288.73 | 5109.99 |\n",
      "+-----------------------+---------+--------+--------+--------+---------+\n"
     ]
    }
   ],
   "source": [
    "metrics = lb.evaluate.model_selection(models, train=False, tie=True, report=True)"
   ]
  },
  {
   "cell_type": "code",
   "execution_count": 30,
   "id": "3f409161-f9d1-451b-9d02-1b3e916bc7a5",
   "metadata": {},
   "outputs": [
    {
     "name": "stdout",
     "output_type": "stream",
     "text": [
      "+-----------------------+----------------------------+--------+--------+\n",
      "|                       |    Mean Absolute Error     |        |        |\n",
      "| model                 |   win   loss    tie    all | KLD    | JSD %  |\n",
      "+-----------------------+----------------------------+--------+--------+\n",
      "| BradleyTerry          |  6.91   6.91   0.00   4.61 | 0.0180 | 0.5116 |\n",
      "| BradleyTerryScaled    |  6.05   6.05   0.00   4.03 | 0.0170 | 0.4832 |\n",
      "| BradleyTerryScaledR   |  6.03   6.03   0.00   4.02 | 0.0169 | 0.4808 |\n",
      "| BradleyTerryFactor    |  5.21   5.21   0.00   3.48 | 0.0152 | 0.4341 |\n",
      "| RaoKupper             | 19.75  19.72   1.49  13.66 | 0.0505 | 1.4226 |\n",
      "| RaoKupperScaled       |  6.21   6.15   1.42   4.59 | 0.0215 | 0.6371 |\n",
      "| RaoKupperScaledR      |  6.21   6.16   1.42   4.60 | 0.0215 | 0.6370 |\n",
      "| RaoKupperFactor       |  5.44   5.36   1.41   4.07 | 0.0207 | 0.6140 |\n",
      "| Davidson              |  6.91   6.91   0.00   4.61 | 0.0181 | 0.5153 |\n",
      "| DavidsonScaled        |  6.15   6.14   0.01   4.10 | 0.0175 | 0.4985 |\n",
      "| DavidsonScaledR       |  6.11   6.11   0.01   4.08 | 0.0176 | 0.5018 |\n",
      "| DavidsonFactor        |  5.15   5.14   0.14   3.48 | 0.0180 | 0.5235 |\n",
      "+-----------------------+----------------------------+--------+--------+\n"
     ]
    }
   ],
   "source": [
    "metrics = lb.evaluate.goodness_of_fit(models, train=False, tie=True, report=True)"
   ]
  },
  {
   "cell_type": "code",
   "execution_count": 31,
   "id": "289e6599-0f6a-4a9e-9cb0-2bf97f10723e",
   "metadata": {},
   "outputs": [
    {
     "name": "stdout",
     "output_type": "stream",
     "text": [
      "+-----------------------+----------------------------+--------+--------+\n",
      "|                       |    Mean Absolute Error     |        |        |\n",
      "| model                 |   win   loss    tie    all | KLD    | JSD %  |\n",
      "+-----------------------+----------------------------+--------+--------+\n",
      "| BradleyTerry          |  7.05   7.05   0.00   4.70 | 0.0189 | 0.5691 |\n",
      "| BradleyTerryScaled    |  6.54   6.54   0.00   4.36 | 0.0181 | 0.5474 |\n",
      "| BradleyTerryScaledR   |  6.59   6.59   0.00   4.39 | 0.0182 | 0.5501 |\n",
      "| BradleyTerryFactor    |  7.12   7.12   0.00   4.75 | 0.0204 | 0.5927 |\n",
      "| RaoKupper             | 21.02  20.89   1.59  14.50 | 0.0493 | 1.4119 |\n",
      "| RaoKupperScaled       |  6.95   6.72   1.49   5.05 | 0.0238 | 0.7302 |\n",
      "| RaoKupperScaledR      |  6.98   6.76   1.49   5.08 | 0.0237 | 0.7283 |\n",
      "| RaoKupperFactor       |  7.00   6.87   1.48   5.12 | 0.0238 | 0.7312 |\n",
      "| Davidson              |  7.02   7.02   0.00   4.68 | 0.0186 | 0.5611 |\n",
      "| DavidsonScaled        |  6.76   6.75   0.01   4.51 | 0.0183 | 0.5531 |\n",
      "| DavidsonScaledR       |  6.41   6.41   0.01   4.27 | 0.0180 | 0.5473 |\n",
      "| DavidsonFactor        |  8.34   8.32   0.13   5.60 | 0.0218 | 0.6449 |\n",
      "+-----------------------+----------------------------+--------+--------+\n"
     ]
    }
   ],
   "source": [
    "metrics = lb.evaluate.generalization(models, test_data=test_data, train=False, tie=True, report=True)"
   ]
  },
  {
   "cell_type": "code",
   "execution_count": null,
   "id": "0941a568-0855-4159-87f0-a22ff7b3ece9",
   "metadata": {},
   "outputs": [],
   "source": []
  }
 ],
 "metadata": {
  "kernelspec": {
   "display_name": "Python 3 (ipykernel)",
   "language": "python",
   "name": "python3"
  },
  "language_info": {
   "codemirror_mode": {
    "name": "ipython",
    "version": 3
   },
   "file_extension": ".py",
   "mimetype": "text/x-python",
   "name": "python",
   "nbconvert_exporter": "python",
   "pygments_lexer": "ipython3",
   "version": "3.12.1"
  }
 },
 "nbformat": 4,
 "nbformat_minor": 5
}
