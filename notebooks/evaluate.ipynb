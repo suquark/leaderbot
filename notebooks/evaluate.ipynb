{
 "cells": [
  {
   "cell_type": "markdown",
   "id": "fabba8b1-c67c-4bb6-baa8-b1643c63cb09",
   "metadata": {},
   "source": [
    "# Evaluate Models"
   ]
  },
  {
   "cell_type": "code",
   "execution_count": 1,
   "id": "63f3e57f-7ce3-4c61-afc2-440e5b037b5a",
   "metadata": {},
   "outputs": [],
   "source": [
    "import leaderbot as lb\n",
    "import numpy as np\n",
    "import pickle"
   ]
  },
  {
   "cell_type": "code",
   "execution_count": 2,
   "id": "fdbef98d-8a74-43a3-bafa-ecc52cb612b1",
   "metadata": {},
   "outputs": [],
   "source": [
    "data = lb.data.load()\n",
    "training_data, test_data = lb.data.split(data, test_ratio=0.1, seed=20)"
   ]
  },
  {
   "cell_type": "code",
   "execution_count": 3,
   "id": "ac027df5-a575-4929-867e-e0a1c33d6a3e",
   "metadata": {},
   "outputs": [],
   "source": [
    "from copy import deepcopy\n",
    "\n",
    "# Create a copy of the data with no tie (for Bradley-Terry)\n",
    "training_data_no_tie = deepcopy(training_data)\n",
    "test_data_no_tie = deepcopy(test_data)\n",
    "\n",
    "training_data_no_tie['Y'][:, -1] = 0\n",
    "test_data_no_tie['Y'][:, -1] = 0"
   ]
  },
  {
   "cell_type": "code",
   "execution_count": 6,
   "id": "5c01697e-e84b-49cd-8514-8a78c7ebb06d",
   "metadata": {},
   "outputs": [],
   "source": [
    "# Small set of models\n",
    "n_tie = 0\n",
    "\n",
    "models = [\n",
    "    lb.models.BradleyTerry(training_data),\n",
    "    lb.models.RaoKupper(training_data, n_tie_factors=n_tie),\n",
    "    lb.models.Davidson(training_data, n_tie_factors=n_tie)\n",
    "]"
   ]
  },
  {
   "cell_type": "code",
   "execution_count": 13,
   "id": "272c62c3-d8f2-4e43-ae78-5ed3f98de3a9",
   "metadata": {},
   "outputs": [],
   "source": [
    "# Small set of models with tie factor\n",
    "n_tie = 1\n",
    "n_cov = 2\n",
    "\n",
    "models = [\n",
    "    lb.models.BradleyTerryFactor(training_data, n_cov_factors=n_cov),\n",
    "    lb.models.RaoKupperFactor(training_data, n_cov_factors=n_cov, n_tie_factors=n_tie),\n",
    "    lb.models.DavidsonFactor(training_data, n_cov_factors=n_cov, n_tie_factors=n_tie)\n",
    "]"
   ]
  },
  {
   "cell_type": "code",
   "execution_count": 5,
   "id": "0c7d3302-7f71-404b-93d5-42198442794f",
   "metadata": {},
   "outputs": [],
   "source": [
    "# More set of models\n",
    "n_tie = 0\n",
    "n_cov = 0\n",
    "\n",
    "models = [\n",
    "    lb.models.BradleyTerry(training_data_no_tie),\n",
    "    lb.models.BradleyTerryScaled(training_data_no_tie),\n",
    "    lb.models.BradleyTerryScaledR(training_data_no_tie),\n",
    "    # lb.models.BradleyTerryScaledRIJ(training_data, n_tie_factors=n_tie),\n",
    "    lb.models.BradleyTerryFactor(training_data_no_tie, n_cov_factors=n_cov),\n",
    "    \n",
    "    lb.models.RaoKupper(training_data, n_tie_factors=n_tie),\n",
    "    lb.models.RaoKupperScaled(training_data, n_tie_factors=n_tie),\n",
    "    lb.models.RaoKupperScaledR(training_data, n_tie_factors=n_tie),\n",
    "    # lb.models.RaoKupperScaledRIJ(dtraining_data, n_tie_factors=n_tie),\n",
    "    lb.models.RaoKupperFactor(training_data, n_cov_factors=n_cov, n_tie_factors=n_tie),\n",
    "    \n",
    "    lb.models.Davidson(training_data, n_tie_factors=n_tie),\n",
    "    lb.models.DavidsonScaled(training_data, n_tie_factors=n_tie),\n",
    "    lb.models.DavidsonScaledR(training_data, n_tie_factors=n_tie),\n",
    "    # lb.models.DavidsonScaledRIJ(training_data, n_tie_factors=n_tie),\n",
    "    lb.models.DavidsonFactor(training_data, n_cov_factors=n_cov, n_tie_factors=n_tie)\n",
    "]"
   ]
  },
  {
   "cell_type": "code",
   "execution_count": 6,
   "id": "5d6a63c5-c6eb-4743-8181-d58c583f52a2",
   "metadata": {},
   "outputs": [
    {
     "name": "stdout",
     "output_type": "stream",
     "text": [
      "training BradleyTerry          ... done.\n",
      "training BradleyTerryScaled    ... done.\n",
      "training BradleyTerryScaledR   ... done.\n",
      "training BradleyTerryFactor    ... done.\n",
      "training RaoKupper             ... done.\n",
      "training RaoKupperScaled       ... done.\n",
      "training RaoKupperScaledR      ... done.\n",
      "training RaoKupperFactor       ... done.\n",
      "training Davidson              ... done.\n",
      "training DavidsonScaled        ... done.\n",
      "training DavidsonScaledR       ... done.\n",
      "training DavidsonFactor        ... done.\n"
     ]
    }
   ],
   "source": [
    "# Train all. If model is ScaledRIJ, use l-BFGS-B, otherwise, use BFGS.\n",
    "for model in models:\n",
    "\n",
    "    name = model.__class__.__name__\n",
    "    if name.endswith('ScaledRIJ'):\n",
    "        method = 'L-BFGS-B'\n",
    "    else:\n",
    "        method = 'BFGS'\n",
    "\n",
    "    print(f'training {name:<21} ... ', end='')\n",
    "    model.train()\n",
    "    print('done.')"
   ]
  },
  {
   "cell_type": "code",
   "execution_count": 2,
   "id": "ebd8c015-367d-42c4-9cf7-c6632851ba37",
   "metadata": {},
   "outputs": [
    {
     "name": "stdout",
     "output_type": "stream",
     "text": [
      "x86_64\n",
      "128\n"
     ]
    }
   ],
   "source": [
    "# Load form file instead\n",
    "filename = '../benchmark/models_train_full.pkl'\n",
    "#filename = '../benchmark/models_train_split.pkl'\n",
    "with open(filename, 'rb') as f:\n",
    "    results = pickle.load(f)\n",
    "\n",
    "models = results['models']\n",
    "test_data = results['test_data']\n",
    "test_data_no_tie = results['test_data_no_tie']\n",
    "proc_time = np.array(results['proc_time'])\n",
    "wall_time = np.array(results['wall_time'])\n",
    "print(results['device'])\n",
    "print(results['num_proc'])"
   ]
  },
  {
   "cell_type": "code",
   "execution_count": 3,
   "id": "40487090-e5dd-4061-afac-e332ac3f3076",
   "metadata": {},
   "outputs": [
    {
     "name": "stdout",
     "output_type": "stream",
     "text": [
      "    2.3 \n",
      "    4.5 \n",
      "   61.0 \n",
      "    0.0 \n",
      "    2.7 \n",
      "   27.4 \n",
      "    5.8 \n",
      "    6.4 \n",
      "  195.0 \n",
      "  330.2 \n",
      "   10.5 \n",
      "    7.8 \n",
      "  285.3 \n",
      "  652.2 \n",
      "   36.0 \n",
      "   37.9 \n",
      "  340.6 \n",
      "  762.6 \n",
      "    5.9 \n",
      "    6.5 \n",
      "   91.5 \n",
      "  606.5 \n",
      "    8.0 \n",
      "   10.5 \n",
      "  278.7 \n",
      "  648.4 \n",
      "   35.4 \n",
      "   35.3 \n",
      "  349.1 \n",
      "  803.8 \n"
     ]
    }
   ],
   "source": [
    "for i in range(proc_time.size):\n",
    "    # print(f'{proc_time[i]:>7.1f}  {wall_time[i]:>7.1f} ')\n",
    "    print(f'{wall_time[i]:>7.1f} ')"
   ]
  },
  {
   "cell_type": "code",
   "execution_count": 3,
   "id": "58827223-d1e7-4018-9778-862977c9b7d0",
   "metadata": {},
   "outputs": [
    {
     "name": "stdout",
     "output_type": "stream",
     "text": [
      "+----+-----------------------+---------+--------+--------------------------------+---------+---------+\n",
      "|    |                       |         |        |               CEL              |         |         |\n",
      "| id | model                 | # param |    NLL |    all     win    loss     tie |     AIC |     BIC |\n",
      "+----+-----------------------+---------+--------+--------------------------------+---------+---------+\n",
      "|  1 | BradleyTerry          |     129 | 0.6554 | 0.6553  0.3177  0.3376     inf |   256.7 |  1049.7 |\n",
      "|  2 | BradleyTerryScaled    |     258 | 0.6552 | 0.6551  0.3180  0.3371     inf |   514.7 |  2100.8 |\n",
      "|  3 | BradleyTerryFactor    |     645 | 0.6549 | 0.6548  0.3178  0.3370     inf |  1288.7 |  5253.9 |\n",
      "|  4 | BradleyTerry          |     129 | 0.6351 | 0.6351  0.3056  0.3295     inf |   256.7 |  1049.8 |\n",
      "|  5 | BradleyTerryScaled    |     258 | 0.6346 | 0.6346  0.3059  0.3287     inf |   514.7 |  2100.8 |\n",
      "|  6 | BradleyTerryFactor    |     645 | 0.6342 | 0.6342  0.3057  0.3285     inf |  1288.7 |  5253.9 |\n",
      "|  7 | RaoKupper             |     130 | 1.0095 | 1.0095  0.3405  0.3462  0.3227 |   258.0 |  1057.2 |\n",
      "|  8 | RaoKupper             |     258 | 1.0106 | 1.0106  0.3401  0.3459  0.3245 |   514.0 |  2100.1 |\n",
      "|  9 | RaoKupper             |    1419 | 1.0055 | 1.0055  0.3404  0.3455  0.3196 |  2836.0 | 11559.4 |\n",
      "| 10 | RaoKupper             |    2709 | 1.0050 | 1.0050  0.3403  0.3455  0.3192 |  5416.0 | 22069.8 |\n",
      "| 11 | RaoKupperScaled       |     259 | 1.0092 | 1.0092  0.3408  0.3457  0.3228 |   516.0 |  2108.2 |\n",
      "| 12 | RaoKupperScaled       |     387 | 1.0103 | 1.0103  0.3404  0.3454  0.3245 |   772.0 |  3151.1 |\n",
      "| 13 | RaoKupperScaled       |    1548 | 1.0052 | 1.0052  0.3407  0.3449  0.3196 |  3094.0 | 12610.4 |\n",
      "| 14 | RaoKupperScaled       |    2838 | 1.0048 | 1.0048  0.3406  0.3449  0.3193 |  5674.0 | 23120.8 |\n",
      "| 15 | RaoKupperFactor       |     646 | 1.0089 | 1.0089  0.3405  0.3457  0.3227 |  1290.0 |  5261.3 |\n",
      "| 16 | RaoKupperFactor       |     774 | 1.0100 | 1.0100  0.3400  0.3454  0.3245 |  1546.0 |  6304.2 |\n",
      "| 17 | RaoKupperFactor       |    1935 | 1.0049 | 1.0049  0.3403  0.3449  0.3196 |  3868.0 | 15763.6 |\n",
      "| 18 | RaoKupperFactor       |    3225 | 1.0044 | 1.0044  0.3403  0.3449  0.3193 |  6448.0 | 26273.9 |\n",
      "| 19 | Davidson              |     130 | 1.0100 | 1.0100  0.3409  0.3461  0.3231 |   258.0 |  1057.2 |\n",
      "| 20 | Davidson              |     258 | 1.0077 | 1.0077  0.3413  0.3466  0.3198 |   514.0 |  2100.1 |\n",
      "| 21 | Davidson              |    1419 | 1.0057 | 1.0057  0.3404  0.3456  0.3197 |  2836.0 | 11559.4 |\n",
      "| 22 | Davidson              |    2709 | 1.0052 | 1.0052  0.3404  0.3455  0.3193 |  5416.0 | 22069.8 |\n",
      "| 23 | DavidsonScaled        |     259 | 1.0098 | 1.0098  0.3411  0.3455  0.3231 |   516.0 |  2108.2 |\n",
      "| 24 | DavidsonScaled        |     387 | 1.0074 | 1.0074  0.3415  0.3460  0.3200 |   772.0 |  3151.1 |\n",
      "| 25 | DavidsonScaled        |    1548 | 1.0055 | 1.0055  0.3407  0.3451  0.3197 |  3094.0 | 12610.4 |\n",
      "| 26 | DavidsonScaled        |    2838 | 1.0050 | 1.0050  0.3407  0.3450  0.3194 |  5674.0 | 23120.8 |\n",
      "| 27 | DavidsonFactor        |     646 | 1.0094 | 1.0094  0.3410  0.3453  0.3231 |  1290.0 |  5261.3 |\n",
      "| 28 | DavidsonFactor        |     774 | 1.0070 | 1.0070  0.3412  0.3460  0.3199 |  1546.0 |  6304.2 |\n",
      "| 29 | DavidsonFactor        |    1935 | 1.0051 | 1.0051  0.3407  0.3448  0.3197 |  3868.0 | 15763.6 |\n",
      "| 30 | DavidsonFactor        |    3225 | 1.0047 | 1.0047  0.3405  0.3448  0.3194 |  6448.0 | 26273.9 |\n",
      "+----+-----------------------+---------+--------+--------------------------------+---------+---------+\n"
     ]
    }
   ],
   "source": [
    "# Model selection\n",
    "metrics = lb.evaluate.model_selection(models, train=False, tie=False, report=True)"
   ]
  },
  {
   "cell_type": "code",
   "execution_count": 4,
   "id": "d0dcfc34-b8c6-4c6a-ad16-5ea1fabd7bde",
   "metadata": {},
   "outputs": [
    {
     "name": "stdout",
     "output_type": "stream",
     "text": [
      "+----+-----------------------+----------------------------+------+------+\n",
      "|    |                       |            RMSE            |      |      |\n",
      "| id | model                 |   win   loss    tie    all | KLD% | JSD% |\n",
      "+----+-----------------------+----------------------------+------+------+\n",
      "|  1 | BradleyTerry          |  29.7   29.7  -----   29.7 | 1.49 | 0.44 |\n",
      "|  2 | BradleyTerryScaled    |  26.2   26.2  -----   26.2 | 1.42 | 0.42 |\n",
      "|  3 | BradleyTerryFactor    |  17.4   17.4  -----   17.4 | 1.30 | 0.39 |\n",
      "|  4 | BradleyTerry          |  35.1   35.1  -----   35.1 | 1.82 | 0.52 |\n",
      "|  5 | BradleyTerryScaled    |  31.5   31.5  -----   31.5 | 1.71 | 0.49 |\n",
      "|  6 | BradleyTerryFactor    |  17.3   17.3  -----   17.3 | 1.58 | 0.46 |\n",
      "|  7 | RaoKupper             |  48.2   69.9  103.5   77.3 | 3.32 | 0.92 |\n",
      "|  8 | RaoKupper             |  46.4   67.8   99.2   74.3 | 3.45 | 0.91 |\n",
      "|  9 | RaoKupper             |  34.1   34.2   23.1   30.9 | 2.63 | 0.73 |\n",
      "| 10 | RaoKupper             |  34.3   32.2   16.8   28.8 | 2.35 | 0.65 |\n",
      "| 11 | RaoKupperScaled       |  46.5   67.9  103.6   76.4 | 3.23 | 0.90 |\n",
      "| 12 | RaoKupperScaled       |  43.5   66.8   99.4   73.5 | 3.36 | 0.89 |\n",
      "| 13 | RaoKupperScaled       |  29.8   31.6   22.7   28.3 | 2.55 | 0.70 |\n",
      "| 14 | RaoKupperScaled       |  30.4   29.1   16.7   26.1 | 2.26 | 0.63 |\n",
      "| 15 | RaoKupperFactor       |  49.0   61.7  104.7   75.6 | 3.09 | 0.86 |\n",
      "| 16 | RaoKupperFactor       |  48.6   58.7  100.9   73.0 | 3.18 | 0.84 |\n",
      "| 17 | RaoKupperFactor       |  20.0   21.2   22.1   21.1 | 2.42 | 0.67 |\n",
      "| 18 | RaoKupperFactor       |  18.7   18.9   15.8   17.9 | 2.12 | 0.59 |\n",
      "| 19 | Davidson              |  51.0   71.8  109.8   81.3 | 3.41 | 0.94 |\n",
      "| 20 | Davidson              |  44.4   63.3   90.1   68.6 | 2.99 | 0.82 |\n",
      "| 21 | Davidson              |  37.1   39.6   25.7   34.7 | 2.69 | 0.75 |\n",
      "| 22 | Davidson              |  37.7   37.1   17.2   32.1 | 2.50 | 0.70 |\n",
      "| 23 | DavidsonScaled        |  49.4   70.5  109.9   80.6 | 3.32 | 0.92 |\n",
      "| 24 | DavidsonScaled        |  41.1   62.4   91.4   68.1 | 2.94 | 0.81 |\n",
      "| 25 | DavidsonScaled        |  32.8   37.7   27.0   32.8 | 2.73 | 0.76 |\n",
      "| 26 | DavidsonScaled        |  35.7   32.6   18.8   30.0 | 2.56 | 0.72 |\n",
      "| 27 | DavidsonFactor        |  55.1   61.1  111.0   79.8 | 3.18 | 0.89 |\n",
      "| 28 | DavidsonFactor        |  46.5   50.0   90.6   65.5 | 2.80 | 0.78 |\n",
      "| 29 | DavidsonFactor        |  20.8   22.0   25.0   22.7 | 2.57 | 0.72 |\n",
      "| 30 | DavidsonFactor        |  19.1   19.0   17.1   18.4 | 2.43 | 0.68 |\n",
      "+----+-----------------------+----------------------------+------+------+\n"
     ]
    }
   ],
   "source": [
    "# Goodness of fit. This evaluates how well the model fits training data.\n",
    "metrics = lb.evaluate.goodness_of_fit(models, train=False, tie=False, metric='RMSE', \n",
    "                                      density=False, report=True)"
   ]
  },
  {
   "cell_type": "code",
   "execution_count": 9,
   "id": "289e6599-0f6a-4a9e-9cb0-2bf97f10723e",
   "metadata": {},
   "outputs": [
    {
     "name": "stdout",
     "output_type": "stream",
     "text": [
      "+----+-----------------------+----------------------------+------+------+\n",
      "|    |                       |            RMSE            |      |      |\n",
      "| id | model                 |   win   loss    tie    all | KLD% | JSD% |\n",
      "+----+-----------------------+----------------------------+------+------+\n",
      "|  1 | BradleyTerry          |  29.7   29.7  -----   29.7 | 1.49 | 0.44 |\n",
      "|  2 | BradleyTerryScaled    |  26.2   26.2  -----   26.2 | 1.42 | 0.42 |\n",
      "|  3 | BradleyTerryFactor    |  17.4   17.4  -----   17.4 | 1.30 | 0.39 |\n",
      "|  4 | BradleyTerry          |  62.0   62.0  -----   62.0 | 1.72 | 0.49 |\n",
      "|  5 | BradleyTerryScaled    |  64.5   64.5  -----   64.5 | 1.65 | 0.47 |\n",
      "|  6 | BradleyTerryFactor    |  74.0   74.0  -----   74.0 | 1.55 | 0.44 |\n",
      "|  7 | RaoKupper             |  48.2   69.9  103.5   77.3 | 3.32 | 0.92 |\n",
      "|  8 | RaoKupper             |  46.4   67.8   99.2   74.3 | 3.45 | 0.91 |\n",
      "|  9 | RaoKupper             |  34.1   34.2   23.1   30.9 | 2.63 | 0.73 |\n",
      "| 10 | RaoKupper             |  34.3   32.2   16.8   28.8 | 2.35 | 0.65 |\n",
      "| 11 | RaoKupperScaled       |  46.5   67.9  103.6   76.4 | 3.23 | 0.90 |\n",
      "| 12 | RaoKupperScaled       |  43.5   66.8   99.4   73.5 | 3.36 | 0.89 |\n",
      "| 13 | RaoKupperScaled       |  29.8   31.6   22.7   28.3 | 2.55 | 0.70 |\n",
      "| 14 | RaoKupperScaled       |  30.4   29.1   16.7   26.1 | 2.26 | 0.63 |\n",
      "| 15 | RaoKupperFactor       |  49.0   61.7  104.7   75.6 | 3.09 | 0.86 |\n",
      "| 16 | RaoKupperFactor       |  48.6   58.7  100.9   73.0 | 3.18 | 0.84 |\n",
      "| 17 | RaoKupperFactor       |  20.0   21.2   22.1   21.1 | 2.42 | 0.67 |\n",
      "| 18 | RaoKupperFactor       |  18.7   18.9   15.8   17.9 | 2.12 | 0.59 |\n",
      "| 19 | Davidson              |  51.0   71.8  109.8   81.3 | 3.41 | 0.94 |\n",
      "| 20 | Davidson              |  44.4   63.3   90.1   68.6 | 2.99 | 0.82 |\n",
      "| 21 | Davidson              |  37.1   39.6   25.7   34.7 | 2.69 | 0.75 |\n",
      "| 22 | Davidson              |  37.7   37.1   17.2   32.1 | 2.50 | 0.70 |\n",
      "| 23 | DavidsonScaled        |  49.4   70.5  109.9   80.6 | 3.32 | 0.92 |\n",
      "| 24 | DavidsonScaled        |  41.1   62.4   91.4   68.1 | 2.94 | 0.81 |\n",
      "| 25 | DavidsonScaled        |  32.8   37.7   27.0   32.8 | 2.73 | 0.76 |\n",
      "| 26 | DavidsonScaled        |  35.7   32.6   18.8   30.0 | 2.56 | 0.72 |\n",
      "| 27 | DavidsonFactor        |  55.1   61.1  111.0   79.8 | 3.18 | 0.89 |\n",
      "| 28 | DavidsonFactor        |  46.5   50.0   90.6   65.5 | 2.80 | 0.78 |\n",
      "| 29 | DavidsonFactor        |  20.8   22.0   25.0   22.7 | 2.57 | 0.72 |\n",
      "| 30 | DavidsonFactor        |  19.1   19.0   17.1   18.4 | 2.43 | 0.68 |\n",
      "+----+-----------------------+----------------------------+------+------+\n"
     ]
    }
   ],
   "source": [
    "# Generalization. This evaluates how well the model predicts test data.\n",
    "metrics = lb.evaluate.generalization(models, test_data=test_data, train=False,\n",
    "                                     tie=False, metric='RMSE', density=False,\n",
    "                                     report=True)"
   ]
  },
  {
   "cell_type": "code",
   "execution_count": null,
   "id": "6ca21ea2-7b3e-4cfd-843b-3da7fdb86913",
   "metadata": {},
   "outputs": [],
   "source": []
  }
 ],
 "metadata": {
  "kernelspec": {
   "display_name": "Python 3 (ipykernel)",
   "language": "python",
   "name": "python3"
  },
  "language_info": {
   "codemirror_mode": {
    "name": "ipython",
    "version": 3
   },
   "file_extension": ".py",
   "mimetype": "text/x-python",
   "name": "python",
   "nbconvert_exporter": "python",
   "pygments_lexer": "ipython3",
   "version": "3.12.2"
  }
 },
 "nbformat": 4,
 "nbformat_minor": 5
}
