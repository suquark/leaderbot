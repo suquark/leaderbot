{
 "cells": [
  {
   "cell_type": "code",
   "execution_count": 1,
   "id": "e32f74c5-a961-47b7-bb49-1cb70aa53706",
   "metadata": {},
   "outputs": [],
   "source": [
    "import leaderbot as lb\n",
    "\n",
    "data = lb.load_data()\n",
    "alg = lb.DavidsonScaled(data)\n",
    "\n",
    "alg.train()"
   ]
  },
  {
   "cell_type": "code",
   "execution_count": 2,
   "id": "3b1eb710-27db-4ff6-8012-8c9fafbbdd15",
   "metadata": {},
   "outputs": [
    {
     "name": "stdout",
     "output_type": "stream",
     "text": [
      "+---------------------------+--------+--------+---------------+---------------+\n",
      "|                           |        |    num |   observed    |   predicted   |\n",
      "| rnk  agent                |  score |  match | win loss  tie | win loss  tie |\n",
      "+---------------------------+--------+--------+---------------+---------------+\n",
      "|   1. chatgpt-4o-latest    | +0.221 |  11798 | 53%  23%  24% | 55%  25%  20% | \n",
      "|   2. gemini-1.5-pro-ex... | +0.200 |  16700 | 51%  26%  23% | 52%  27%  20% | \n",
      "|   3. gpt-4o-2024-05-13    | +0.181 |  66560 | 51%  26%  23% | 52%  28%  20% | \n",
      "|   4. gpt-4o-mini-2024-... | +0.171 |  15929 | 46%  29%  25% | 48%  31%  21% | \n",
      "|   5. claude-3-5-sonnet... | +0.170 |  40587 | 47%  31%  22% | 48%  32%  21% | \n",
      "|   6. gemini-advanced-0514 | +0.167 |  44319 | 49%  29%  22% | 50%  30%  21% | \n",
      "|   7. llama-3.1-405b-in... | +0.161 |  15680 | 44%  32%  24% | 45%  34%  21% | \n",
      "|   8. gpt-4o-2024-08-06    | +0.159 |   7796 | 43%  32%  25% | 45%  34%  21% | \n",
      "|   9. gemini-1.5-pro-ap... | +0.159 |  57941 | 47%  31%  22% | 48%  32%  21% | \n",
      "|  10. gemini-1.5-pro-ap... | +0.156 |  48381 | 52%  28%  20% | 52%  28%  20% | \n",
      "|  11. athene-70b-0725      | +0.149 |   9125 | 43%  35%  22% | 43%  36%  21% | \n",
      "|  12. gpt-4-turbo-2024-... | +0.148 |  73106 | 47%  29%  24% | 49%  31%  21% | \n",
      "|  13. mistral-large-2407   | +0.147 |   9309 | 41%  35%  25% | 43%  37%  21% | \n",
      "|  14. llama-3.1-70b-ins... | +0.143 |  10946 | 41%  36%  22% | 42%  37%  21% | \n",
      "|  15. claude-3-opus-202... | +0.141 | 134831 | 49%  29%  21% | 50%  30%  20% | \n",
      "|  16. gpt-4-1106-preview   | +0.141 |  81545 | 53%  25%  22% | 54%  26%  20% | \n",
      "|  17. yi-large-preview     | +0.134 |  42947 | 46%  32%  22% | 47%  33%  21% | \n",
      "|  18. gpt-4-0125-preview   | +0.134 |  74890 | 49%  28%  23% | 50%  29%  20% | \n",
      "|  19. gemini-1.5-flash-... | +0.125 |  45312 | 43%  35%  22% | 43%  36%  21% | \n",
      "|  20. reka-core-20240722   | +0.125 |   5518 | 39%  39%  22% | 40%  39%  21% | \n",
      "|  21. deepseek-v2-api-0628 | +0.115 |  13075 | 37%  39%  24% | 39%  40%  21% | \n",
      "|  22. gemma-2-27b-it       | +0.114 |  22252 | 38%  38%  24% | 40%  39%  21% | \n",
      "|  23. deepseek-coder-v2... | +0.114 |   3162 | 35%  42%  24% | 36%  43%  21% | \n",
      "|  24. yi-large             | +0.109 |  13563 | 40%  37%  24% | 41%  38%  21% | \n",
      "|  25. bard-jan-24-gemin... | +0.106 |  10499 | 53%  31%  15% | 51%  29%  20% | \n",
      "|  26. nemotron-4-340b-i... | +0.106 |  16979 | 40%  37%  23% | 41%  38%  21% | \n",
      "|  27. llama-3-70b-instruct | +0.104 | 133374 | 42%  36%  22% | 43%  37%  21% | \n",
      "|  28. glm-4-0520           | +0.102 |   8271 | 39%  38%  23% | 40%  39%  21% | \n",
      "|  29. reka-flash-20240722  | +0.100 |   5397 | 34%  44%  22% | 34%  45%  21% | \n",
      "|  30. reka-core-20240501   | +0.097 |  51460 | 38%  39%  23% | 39%  40%  21% | \n",
      "+---------------------------+--------+--------+---------------+---------------+\n"
     ]
    }
   ],
   "source": [
    "%matplotlib tk\n",
    "alg.rank(max_rank=30, plot=True)"
   ]
  },
  {
   "cell_type": "code",
   "execution_count": 2,
   "id": "18ab3202-75ec-4173-9961-31b20e3b4c7e",
   "metadata": {},
   "outputs": [
    {
     "name": "stdout",
     "output_type": "stream",
     "text": [
      "Plot saved to \"/home/sia/work/github/arenaranking/notebooks/visualization.svg\".\n",
      "Plot saved to \"/home/sia/work/github/arenaranking/notebooks/visualization.pdf\".\n"
     ]
    }
   ],
   "source": [
    "%matplotlib tk\n",
    "alg.visualize(max_rank=50, method='kpca', dim='3d')"
   ]
  },
  {
   "cell_type": "code",
   "execution_count": null,
   "id": "8f7479d9-ec98-45fc-a98f-fdc7cd5e5650",
   "metadata": {},
   "outputs": [],
   "source": []
  }
 ],
 "metadata": {
  "kernelspec": {
   "display_name": "Python 3 (ipykernel)",
   "language": "python",
   "name": "python3"
  },
  "language_info": {
   "codemirror_mode": {
    "name": "ipython",
    "version": 3
   },
   "file_extension": ".py",
   "mimetype": "text/x-python",
   "name": "python",
   "nbconvert_exporter": "python",
   "pygments_lexer": "ipython3",
   "version": "3.11.4"
  }
 },
 "nbformat": 4,
 "nbformat_minor": 5
}
